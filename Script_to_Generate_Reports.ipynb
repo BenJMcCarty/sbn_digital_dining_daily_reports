{
 "cells": [
  {
   "cell_type": "markdown",
   "metadata": {
    "toc": true
   },
   "source": [
    "<h1>Table of Contents<span class=\"tocSkip\"></span></h1>\n",
    "<div class=\"toc\"><ul class=\"toc-item\"><li><span><a href=\"#Intro\" data-toc-modified-id=\"Intro-1\"><span class=\"toc-item-num\">1&nbsp;&nbsp;</span>Intro</a></span></li><li><span><a href=\"#STAR\" data-toc-modified-id=\"STAR-2\"><span class=\"toc-item-num\">2&nbsp;&nbsp;</span>STAR</a></span><ul class=\"toc-item\"><li><span><a href=\"#Situation\" data-toc-modified-id=\"Situation-2.1\"><span class=\"toc-item-num\">2.1&nbsp;&nbsp;</span>Situation</a></span></li><li><span><a href=\"#Threat\" data-toc-modified-id=\"Threat-2.2\"><span class=\"toc-item-num\">2.2&nbsp;&nbsp;</span>Threat</a></span></li><li><span><a href=\"#Action\" data-toc-modified-id=\"Action-2.3\"><span class=\"toc-item-num\">2.3&nbsp;&nbsp;</span>Action</a></span></li><li><span><a href=\"#Result\" data-toc-modified-id=\"Result-2.4\"><span class=\"toc-item-num\">2.4&nbsp;&nbsp;</span>Result</a></span></li></ul></li><li><span><a href=\"#Workflow-2:-Don't-Drop-Labels\" data-toc-modified-id=\"Workflow-2:-Don't-Drop-Labels-3\"><span class=\"toc-item-num\">3&nbsp;&nbsp;</span>Workflow 2: Don't Drop Labels</a></span></li><li><span><a href=\"#Original-Workflow\" data-toc-modified-id=\"Original-Workflow-4\"><span class=\"toc-item-num\">4&nbsp;&nbsp;</span>Original Workflow</a></span></li></ul></div>"
   ]
  },
  {
   "cell_type": "markdown",
   "metadata": {},
   "source": [
    "# Intro"
   ]
  },
  {
   "cell_type": "markdown",
   "metadata": {},
   "source": [
    "# STAR"
   ]
  },
  {
   "cell_type": "markdown",
   "metadata": {},
   "source": [
    "## Situation"
   ]
  },
  {
   "cell_type": "markdown",
   "metadata": {},
   "source": [
    "---\n",
    "\n",
    "* NA uses DRR summary reports to post revenue in LS\n",
    "* I use report packet to review for DRR\n",
    "\n",
    "---"
   ]
  },
  {
   "cell_type": "markdown",
   "metadata": {},
   "source": [
    "## Threat"
   ]
  },
  {
   "cell_type": "markdown",
   "metadata": {},
   "source": [
    "---\n",
    "\n",
    "* **Pro:** clearly provide total sum amounts for audit to post directly\n",
    "\n",
    "* **Cons:**\n",
    "    * \"Food\" = \"Food\" + \"Other\"\n",
    "    * Discounts are ambiguous\n",
    "        * FBC vs. Assoc vs. others\n",
    "    * *LOTS* of unused rows/labels create visual confusion\n",
    "    * Not always clear to which XAC to post revenue/tax/tips\n",
    "    \n",
    "---\n",
    "    "
   ]
  },
  {
   "cell_type": "markdown",
   "metadata": {},
   "source": [
    "## Action"
   ]
  },
  {
   "cell_type": "markdown",
   "metadata": {},
   "source": [
    "---\n",
    "\n",
    "**End Goal:**\n",
    "\n",
    "|Sub-Dept | Rain 903 | IRD  | CC | Bar|\n",
    "| ----- | ----- | ----- | ----- | ----- |\n",
    "|Food | 1.00 | 1.00 | 1.00 | 1.00 |\n",
    "|Liquor | 2.00 | 2.00 | 2.00 | 2.00 \n",
    "|Tax | 3.00 | 3.00 | 3.00 | 3.00 \n",
    "|Gratuity | 4.00 | 4.00 | 4.00 | 4.00 \n",
    "\n",
    "---"
   ]
  },
  {
   "cell_type": "markdown",
   "metadata": {},
   "source": [
    "## Result"
   ]
  },
  {
   "cell_type": "code",
   "execution_count": null,
   "metadata": {},
   "outputs": [],
   "source": []
  },
  {
   "cell_type": "code",
   "execution_count": null,
   "metadata": {
    "ExecuteTime": {
     "end_time": "2022-02-26T21:18:01.776954Z",
     "start_time": "2022-02-26T21:18:01.760941Z"
    }
   },
   "outputs": [],
   "source": [
    "## --- Importing Packages --- ##\n",
    "\n",
    "import numpy as np\n",
    "import pandas as pd\n",
    "import matplotlib.pyplot as plt\n",
    "import seaborn as sns\n",
    "\n",
    "import bmcds.eda as eda\n",
    "\n",
    "pd.set_option('display.max_rows', None)"
   ]
  },
  {
   "cell_type": "code",
   "execution_count": null,
   "metadata": {
    "ExecuteTime": {
     "end_time": "2022-02-26T21:18:01.980880Z",
     "start_time": "2022-02-26T21:18:01.776954Z"
    }
   },
   "outputs": [],
   "source": [
    "## --- Specify file path --- ##\n",
    "file_path = './data/02_25_2022_pc.xls'"
   ]
  },
  {
   "cell_type": "code",
   "execution_count": null,
   "metadata": {
    "ExecuteTime": {
     "end_time": "2022-02-26T21:18:02.231674Z",
     "start_time": "2022-02-26T21:18:01.980880Z"
    }
   },
   "outputs": [],
   "source": [
    "df = pd.read_excel(file_path, header = None, skiprows = 3)\n",
    "df"
   ]
  },
  {
   "cell_type": "code",
   "execution_count": null,
   "metadata": {
    "ExecuteTime": {
     "end_time": "2022-02-26T21:18:02.497983Z",
     "start_time": "2022-02-26T21:18:02.231674Z"
    }
   },
   "outputs": [],
   "source": [
    "df.columns = ['Label', 'Bar', 'drop1', 'Dining Room', 'drop2', 'Room Service', 'drop3', 'Starbucks', 'drop4', 'Page Total']\n",
    "df"
   ]
  },
  {
   "cell_type": "code",
   "execution_count": null,
   "metadata": {
    "ExecuteTime": {
     "end_time": "2022-02-26T21:18:02.764352Z",
     "start_time": "2022-02-26T21:18:02.497983Z"
    }
   },
   "outputs": [],
   "source": [
    "df = df.drop(columns = ['drop1', 'drop2', 'drop3', 'drop4', 'Page Total'])\n",
    "df"
   ]
  },
  {
   "cell_type": "code",
   "execution_count": null,
   "metadata": {
    "ExecuteTime": {
     "end_time": "2022-02-26T21:18:02.968262Z",
     "start_time": "2022-02-26T21:18:02.764352Z"
    }
   },
   "outputs": [],
   "source": [
    "df.isna().sum(axis=1).value_counts()"
   ]
  },
  {
   "cell_type": "code",
   "execution_count": null,
   "metadata": {
    "ExecuteTime": {
     "end_time": "2022-02-26T21:18:03.596910Z",
     "start_time": "2022-02-26T21:18:02.968262Z"
    },
    "scrolled": true
   },
   "outputs": [],
   "source": [
    "df_cleaned = df[df.isna().sum(axis=1) ==0]\n",
    "df_cleaned = df_cleaned.reset_index(drop=True)\n",
    "df_cleaned"
   ]
  },
  {
   "cell_type": "markdown",
   "metadata": {},
   "source": [
    "# Workflow 2: Don't Drop Labels"
   ]
  },
  {
   "cell_type": "code",
   "execution_count": null,
   "metadata": {
    "ExecuteTime": {
     "end_time": "2022-02-26T21:18:03.691115Z",
     "start_time": "2022-02-26T21:18:03.596910Z"
    },
    "scrolled": true
   },
   "outputs": [],
   "source": [
    "df_no_drp = df_cleaned.copy()\n",
    "df_no_drp"
   ]
  },
  {
   "cell_type": "code",
   "execution_count": null,
   "metadata": {
    "ExecuteTime": {
     "end_time": "2022-02-26T21:18:03.863535Z",
     "start_time": "2022-02-26T21:18:03.691115Z"
    },
    "scrolled": true
   },
   "outputs": [],
   "source": [
    "df_no_drp_idx = df_no_drp[~df_no_drp.loc[:, \"Label\"].isin([' '])]\n",
    "df_no_drp_idx"
   ]
  },
  {
   "cell_type": "code",
   "execution_count": null,
   "metadata": {
    "ExecuteTime": {
     "end_time": "2022-02-26T21:18:03.926550Z",
     "start_time": "2022-02-26T21:18:03.863535Z"
    },
    "scrolled": true
   },
   "outputs": [],
   "source": [
    "df_no_drp_idx = df_no_drp_idx.rename(df_no_drp_idx[\"Label\"])\n",
    "df_no_drp_idx = df_no_drp_idx.drop(columns = \"Label\")\n",
    "df_no_drp_idx"
   ]
  },
  {
   "cell_type": "code",
   "execution_count": null,
   "metadata": {
    "ExecuteTime": {
     "end_time": "2022-02-26T21:18:44.798160Z",
     "start_time": "2022-02-26T21:18:44.782537Z"
    },
    "scrolled": true
   },
   "outputs": [],
   "source": [
    "df_no_drp_idx.dtypes"
   ]
  },
  {
   "cell_type": "code",
   "execution_count": null,
   "metadata": {
    "ExecuteTime": {
     "end_time": "2022-02-26T21:18:45.913065Z",
     "start_time": "2022-02-26T21:18:45.881897Z"
    },
    "scrolled": true
   },
   "outputs": [],
   "source": [
    "for col in df_no_drp_idx.columns:\n",
    "    df_no_drp_idx[col] = pd.to_numeric(df_no_drp_idx[col], downcast = 'float')"
   ]
  },
  {
   "cell_type": "code",
   "execution_count": null,
   "metadata": {
    "ExecuteTime": {
     "end_time": "2022-02-26T21:18:46.698658Z",
     "start_time": "2022-02-26T21:18:46.683035Z"
    },
    "scrolled": true
   },
   "outputs": [],
   "source": [
    "df_no_drp_idx.dtypes"
   ]
  },
  {
   "cell_type": "code",
   "execution_count": null,
   "metadata": {
    "ExecuteTime": {
     "end_time": "2022-02-26T21:18:04.334732Z",
     "start_time": "2022-02-26T21:18:04.256142Z"
    }
   },
   "outputs": [],
   "source": [
    "df_no_drp_idx"
   ]
  },
  {
   "cell_type": "markdown",
   "metadata": {},
   "source": [
    "# Original Workflow"
   ]
  },
  {
   "cell_type": "code",
   "execution_count": null,
   "metadata": {
    "ExecuteTime": {
     "end_time": "2022-02-26T21:12:05.955937Z",
     "start_time": "2022-02-26T21:12:05.940309Z"
    },
    "scrolled": true
   },
   "outputs": [],
   "source": [
    "df_cleaned.loc[:, \"Label\"].unique()"
   ]
  },
  {
   "cell_type": "code",
   "execution_count": null,
   "metadata": {
    "ExecuteTime": {
     "end_time": "2022-02-26T21:12:05.971560Z",
     "start_time": "2022-02-26T21:12:05.955937Z"
    },
    "scrolled": true
   },
   "outputs": [],
   "source": [
    "drop_labels = ['Sales Subtotal', 'Total before tax', 'None', 'None', \n",
    "               'Tax Subtotal','Receipt Rounding','Total of check', ' ', 'Unadjusted receipts',\n",
    "               'PaidIn - AR', 'PaidIn - Debitek','PaidIn - Gift Certificates',\n",
    "               'No of Covers', 'No of Checks', 'Avg cover', 'Avg check',\n",
    "               'Total Paid Outs', 'Server bank', 'Total tips',\n",
    "               'Server credit card fees', 'Net tips', 'Net Cash',\n",
    "               'Other receipts turned in', 'Server Drops', 'Turned in',\n",
    "               'Restaurant credit card fees', 'Estimated deposit',\n",
    "               'Beginning NRS Total', 'Total Receipts', 'Discounts',\n",
    "               'Paid Ins','Gross Total', 'NRS Total']\n",
    "drop_labels"
   ]
  },
  {
   "cell_type": "code",
   "execution_count": null,
   "metadata": {
    "ExecuteTime": {
     "end_time": "2022-02-26T21:12:06.003204Z",
     "start_time": "2022-02-26T21:12:05.987184Z"
    },
    "scrolled": true
   },
   "outputs": [],
   "source": [
    "df_cln_idx =df_cleaned[~df_cleaned.loc[:, \"Label\"].isin(drop_labels)]\n",
    "df_cln_idx"
   ]
  },
  {
   "cell_type": "code",
   "execution_count": null,
   "metadata": {
    "ExecuteTime": {
     "end_time": "2022-02-26T21:12:09.473970Z",
     "start_time": "2022-02-26T21:12:09.458364Z"
    }
   },
   "outputs": [],
   "source": [
    "df_new_idx = df_cln_idx.copy()"
   ]
  },
  {
   "cell_type": "code",
   "execution_count": null,
   "metadata": {
    "ExecuteTime": {
     "end_time": "2022-02-26T21:12:09.866660Z",
     "start_time": "2022-02-26T21:12:09.851021Z"
    },
    "scrolled": true
   },
   "outputs": [],
   "source": [
    "df_new_idx = df_new_idx.rename(df_cleaned[\"Label\"])\n",
    "df_new_idx = df_new_idx.drop(columns = \"Label\")\n",
    "df_new_idx"
   ]
  },
  {
   "cell_type": "code",
   "execution_count": null,
   "metadata": {
    "ExecuteTime": {
     "end_time": "2022-02-26T21:07:00.177674Z",
     "start_time": "2022-02-26T21:07:00.162048Z"
    }
   },
   "outputs": [],
   "source": [
    "df_new_idx.dtypes"
   ]
  },
  {
   "cell_type": "code",
   "execution_count": null,
   "metadata": {
    "ExecuteTime": {
     "end_time": "2022-02-26T21:07:00.664769Z",
     "start_time": "2022-02-26T21:07:00.649049Z"
    },
    "scrolled": true
   },
   "outputs": [],
   "source": [
    "for col in df_new_idx.columns:\n",
    "    df_new_idx[col] = pd.to_numeric(df_new_idx[col], downcast = 'float')"
   ]
  },
  {
   "cell_type": "code",
   "execution_count": null,
   "metadata": {
    "ExecuteTime": {
     "end_time": "2022-02-26T21:07:00.695865Z",
     "start_time": "2022-02-26T21:07:00.680355Z"
    },
    "scrolled": true
   },
   "outputs": [],
   "source": [
    "df_new_idx.dtypes"
   ]
  },
  {
   "cell_type": "code",
   "execution_count": null,
   "metadata": {
    "ExecuteTime": {
     "end_time": "2022-02-26T21:07:00.758421Z",
     "start_time": "2022-02-26T21:07:00.711565Z"
    }
   },
   "outputs": [],
   "source": [
    "df_new_idx.T.describe()"
   ]
  },
  {
   "cell_type": "code",
   "execution_count": null,
   "metadata": {
    "ExecuteTime": {
     "end_time": "2022-02-26T21:07:00.774050Z",
     "start_time": "2022-02-26T21:07:00.758421Z"
    }
   },
   "outputs": [],
   "source": [
    "df_new_idx['Total'] = df_new_idx.sum(axis=1)\n",
    "df_new_idx"
   ]
  },
  {
   "cell_type": "code",
   "execution_count": null,
   "metadata": {
    "ExecuteTime": {
     "end_time": "2022-02-26T21:07:00.789671Z",
     "start_time": "2022-02-26T21:07:00.774050Z"
    }
   },
   "outputs": [],
   "source": [
    "df_compressed = df_new_idx[df_new_idx['Total'] >0]\n",
    "df_compressed"
   ]
  },
  {
   "cell_type": "code",
   "execution_count": null,
   "metadata": {
    "ExecuteTime": {
     "end_time": "2022-02-26T21:07:00.821462Z",
     "start_time": "2022-02-26T21:07:00.796256Z"
    }
   },
   "outputs": [],
   "source": [
    "df_compressed['Bar']['Food']"
   ]
  },
  {
   "cell_type": "code",
   "execution_count": null,
   "metadata": {
    "ExecuteTime": {
     "end_time": "2022-02-26T21:07:00.837127Z",
     "start_time": "2022-02-26T21:07:00.821462Z"
    }
   },
   "outputs": [],
   "source": [
    "for col in df_compressed.columns[:-1]:\n",
    "    print(f\"Post to {col} food: {df_compressed[col]['Food']+df_compressed[col]['Other']:.2f}\")"
   ]
  },
  {
   "cell_type": "code",
   "execution_count": null,
   "metadata": {
    "ExecuteTime": {
     "end_time": "2022-02-26T21:07:00.868352Z",
     "start_time": "2022-02-26T21:07:00.852702Z"
    }
   },
   "outputs": [],
   "source": [
    "dept_list = [\"Rain 903\", \"In Room Dining\", \"Coffee Corner\", \"Lobby Bar\"]\n",
    "sd_list = [\"Food\", \"Liquor\", \"Tax\", \"Gratuity\"]\n",
    "\n",
    "for dept in dept_list:\n",
    "    for sd in sd_list:\n",
    "        print(dept+\" - \"+sd)"
   ]
  },
  {
   "cell_type": "code",
   "execution_count": null,
   "metadata": {
    "ExecuteTime": {
     "end_time": "2022-02-26T21:07:00.899990Z",
     "start_time": "2022-02-26T21:07:00.883906Z"
    },
    "scrolled": false
   },
   "outputs": [],
   "source": [
    "df_compressed"
   ]
  },
  {
   "cell_type": "code",
   "execution_count": null,
   "metadata": {
    "ExecuteTime": {
     "end_time": "2022-02-26T21:07:49.759460Z",
     "start_time": "2022-02-26T21:07:49.728153Z"
    }
   },
   "outputs": [],
   "source": [
    "df"
   ]
  },
  {
   "cell_type": "code",
   "execution_count": null,
   "metadata": {
    "ExecuteTime": {
     "end_time": "2022-02-26T21:08:03.188025Z",
     "start_time": "2022-02-26T21:08:03.172012Z"
    }
   },
   "outputs": [],
   "source": []
  },
  {
   "cell_type": "code",
   "execution_count": null,
   "metadata": {},
   "outputs": [],
   "source": []
  }
 ],
 "metadata": {
  "kernelspec": {
   "display_name": "Python (bmcds)",
   "language": "python",
   "name": "bmcds"
  },
  "language_info": {
   "codemirror_mode": {
    "name": "ipython",
    "version": 3
   },
   "file_extension": ".py",
   "mimetype": "text/x-python",
   "name": "python",
   "nbconvert_exporter": "python",
   "pygments_lexer": "ipython3",
   "version": "3.8.5"
  },
  "toc": {
   "base_numbering": 1,
   "nav_menu": {},
   "number_sections": true,
   "sideBar": true,
   "skip_h1_title": false,
   "title_cell": "Table of Contents",
   "title_sidebar": "Contents",
   "toc_cell": true,
   "toc_position": {
    "height": "calc(100% - 180px)",
    "left": "10px",
    "top": "150px",
    "width": "165px"
   },
   "toc_section_display": true,
   "toc_window_display": true
  }
 },
 "nbformat": 4,
 "nbformat_minor": 4
}
