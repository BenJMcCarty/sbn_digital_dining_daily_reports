{
 "cells": [
  {
   "cell_type": "markdown",
   "metadata": {
    "toc": true
   },
   "source": [
    "<h1>Table of Contents<span class=\"tocSkip\"></span></h1>\n",
    "<div class=\"toc\"><ul class=\"toc-item\"><li><span><a href=\"#Intro\" data-toc-modified-id=\"Intro-1\"><span class=\"toc-item-num\">1&nbsp;&nbsp;</span>Intro</a></span></li><li><span><a href=\"#⭐-STAR-⭐\" data-toc-modified-id=\"⭐-STAR-⭐-2\"><span class=\"toc-item-num\">2&nbsp;&nbsp;</span>⭐ STAR ⭐</a></span><ul class=\"toc-item\"><li><span><a href=\"#🔎-Situation-🔍\" data-toc-modified-id=\"🔎-Situation-🔍-2.1\"><span class=\"toc-item-num\">2.1&nbsp;&nbsp;</span>🔎 Situation 🔍</a></span></li><li><span><a href=\"#⚠️-Threat-⚠️\" data-toc-modified-id=\"⚠️-Threat-⚠️-2.2\"><span class=\"toc-item-num\">2.2&nbsp;&nbsp;</span>⚠️ Threat ⚠️</a></span></li><li><span><a href=\"#⚒️-Action-⚒️\" data-toc-modified-id=\"⚒️-Action-⚒️-2.3\"><span class=\"toc-item-num\">2.3&nbsp;&nbsp;</span>⚒️ Action ⚒️</a></span></li><li><span><a href=\"#📋-Result-📋\" data-toc-modified-id=\"📋-Result-📋-2.4\"><span class=\"toc-item-num\">2.4&nbsp;&nbsp;</span>📋 Result 📋</a></span></li></ul></li><li><span><a href=\"#Workflow-2:-Don't-Drop-Labels\" data-toc-modified-id=\"Workflow-2:-Don't-Drop-Labels-3\"><span class=\"toc-item-num\">3&nbsp;&nbsp;</span>Workflow 2: Don't Drop Labels</a></span></li><li><span><a href=\"#⚠️-⚒️-TODO:-⚒️-⚠️\" data-toc-modified-id=\"⚠️-⚒️-TODO:-⚒️-⚠️-4\"><span class=\"toc-item-num\">4&nbsp;&nbsp;</span>⚠️ ⚒️ TODO: ⚒️ ⚠️</a></span></li><li><span><a href=\"#⚠️-ERROR-⚠️\" data-toc-modified-id=\"⚠️-ERROR-⚠️-5\"><span class=\"toc-item-num\">5&nbsp;&nbsp;</span>⚠️ ERROR ⚠️</a></span></li><li><span><a href=\"#Workflow-1:-Dropping-Unused-Labels\" data-toc-modified-id=\"Workflow-1:-Dropping-Unused-Labels-6\"><span class=\"toc-item-num\">6&nbsp;&nbsp;</span>Workflow 1: Dropping Unused Labels</a></span></li><li><span><a href=\"#⚠️-CONDENSE-W/-UPPER-WF-⚠️\" data-toc-modified-id=\"⚠️-CONDENSE-W/-UPPER-WF-⚠️-7\"><span class=\"toc-item-num\">7&nbsp;&nbsp;</span>⚠️ CONDENSE W/ UPPER WF ⚠️</a></span></li></ul></div>"
   ]
  },
  {
   "cell_type": "markdown",
   "metadata": {},
   "source": [
    "# Intro"
   ]
  },
  {
   "cell_type": "markdown",
   "metadata": {},
   "source": [
    "# ⭐ STAR ⭐"
   ]
  },
  {
   "cell_type": "markdown",
   "metadata": {},
   "source": [
    "## 🔎 Situation 🔍"
   ]
  },
  {
   "cell_type": "markdown",
   "metadata": {},
   "source": [
    "---\n",
    "\n",
    "* NA uses DRR summary reports to post revenue in LS\n",
    "* I use report packet to review for DRR\n",
    "\n",
    "---"
   ]
  },
  {
   "cell_type": "markdown",
   "metadata": {},
   "source": [
    "## ⚠️ Threat ⚠️"
   ]
  },
  {
   "cell_type": "markdown",
   "metadata": {},
   "source": [
    "---\n",
    "\n",
    "* **Pro:** clearly provide total sum amounts for audit to post directly\n",
    "\n",
    "* **Cons:**\n",
    "    * \"Food\" = \"Food\" + \"Other\"\n",
    "    * Discounts are ambiguous\n",
    "        * FBC vs. Assoc vs. others\n",
    "    * *LOTS* of unused rows/labels create visual confusion\n",
    "    * Not always clear to which XAC to post revenue/tax/tips\n",
    "    * Unusual/new/unused categories are not always accounted for\n",
    "\n",
    "All issues result in manual review of all transactions during the Daily reporting process.\n",
    "\n",
    "---\n",
    "    "
   ]
  },
  {
   "cell_type": "markdown",
   "metadata": {},
   "source": [
    "## ⚒️ Action ⚒️"
   ]
  },
  {
   "cell_type": "markdown",
   "metadata": {},
   "source": [
    "---\n",
    "\n",
    "**Create workflow to:**\n",
    "\n",
    "* *Read existing DD reports*\n",
    "\n",
    "\n",
    "* *Clean the report to isolate relevant details*\n",
    "\n",
    "\n",
    "* *Report any irregularities:*\n",
    "    * Any discounts or charges?\n",
    "    * Any new/non-standard MOPs?\n",
    "    * Report exact amounts to post to each LS XAC\n",
    "        * See below\n",
    "\n",
    "---"
   ]
  },
  {
   "cell_type": "markdown",
   "metadata": {},
   "source": [
    "---\n",
    "\n",
    "**End Goal:**\n",
    "\n",
    "---\n",
    "\n",
    "> **Post these amounts in LightSpeed:**\n",
    "\n",
    "<!-- | |Dept | Rain 903 | IRD  | CC | Bar| \n",
    "| - | - | - | - | - | - |\n",
    "|**Sub-Dept** | |  |  |  |\n",
    "|Food | 1.00 | 1.00 | 1.00 | 1.00 |\n",
    "|Liquor | 2.00 | 2.00 | 2.00 | 2.00 \n",
    "|Tax | 3.00 | 3.00 | 3.00 | 3.00 \n",
    "|Gratuity | 4.00 | 4.00 | 4.00 | 4.00  -->\n",
    "\n",
    "|Dept| Food | Liquor | Tax  | Gratuity | \n",
    "| -  | -    | -      | -    | -        |\n",
    "| DR | 1.00 | 1.00   | 1.00 | 1.00     |\n",
    "| RS | 4.00 | 4.00   | 4.00 | 4.00     |\n",
    "| CC | 1.00 | 1.00   | 1.00 | 1.00     |\n",
    "| LB | 4.00 | 4.00   | 4.00 | 4.00     |\n",
    "\n",
    "---\n",
    "\n",
    " >**Investigate these amounts:**\n",
    " \n",
    " | Item            | Amount |\n",
    " | -               | - |\n",
    " | Discount        | 1.00 |\n",
    " | Charge          | 1.00 |\n",
    " | $2 Tip - Coupon | 1.00 |\n",
    "\n",
    "---"
   ]
  },
  {
   "cell_type": "markdown",
   "metadata": {},
   "source": [
    "## 📋 Result 📋"
   ]
  },
  {
   "cell_type": "code",
   "execution_count": null,
   "metadata": {
    "ExecuteTime": {
     "end_time": "2022-02-27T01:28:01.516789Z",
     "start_time": "2022-02-27T01:28:00.040996Z"
    }
   },
   "outputs": [],
   "source": [
    "## --- Importing Packages --- ##\n",
    "\n",
    "import numpy as np\n",
    "import pandas as pd\n",
    "import matplotlib.pyplot as plt\n",
    "import seaborn as sns\n",
    "\n",
    "from datetime import datetime, timedelta\n",
    "\n",
    "import bmcds.eda as eda\n",
    "\n",
    "pd.set_option('display.max_rows', None)\n",
    "pd.set_eng_float_format(accuracy=2, use_eng_prefix=True)\n",
    "%matplotlib inline"
   ]
  },
  {
   "cell_type": "code",
   "execution_count": null,
   "metadata": {
    "ExecuteTime": {
     "end_time": "2022-02-27T01:28:01.531798Z",
     "start_time": "2022-02-27T01:28:01.517864Z"
    }
   },
   "outputs": [],
   "source": [
    "## --- Specify file path --- ##\n",
    "\n",
    "file_path = './data/02_25_2022_pc.xls'"
   ]
  },
  {
   "cell_type": "code",
   "execution_count": null,
   "metadata": {
    "ExecuteTime": {
     "end_time": "2022-02-27T01:28:01.547812Z",
     "start_time": "2022-02-27T01:28:01.532798Z"
    },
    "scrolled": true
   },
   "outputs": [],
   "source": [
    "# ## --- Read specific columns from Excel file --- ##\n",
    "\n",
    "# df = pd.read_excel(file_path, skiprows = 3, header = None,\n",
    "#                    usecols = 'A, B, D, F, H', \n",
    "#                    names = ['Label', 'Lounge', 'Rain 903', 'In-Room Dining',\n",
    "#                             'Coffee Corner'])\n",
    "# df"
   ]
  },
  {
   "cell_type": "code",
   "execution_count": null,
   "metadata": {
    "ExecuteTime": {
     "end_time": "2022-02-27T01:28:01.593816Z",
     "start_time": "2022-02-27T01:28:01.548812Z"
    },
    "scrolled": true
   },
   "outputs": [],
   "source": [
    "## --- Read specific columns from Excel file --- ##\n",
    "\n",
    "df = pd.read_excel(file_path, skiprows = 2)\n",
    "df"
   ]
  },
  {
   "cell_type": "code",
   "execution_count": null,
   "metadata": {
    "ExecuteTime": {
     "end_time": "2022-02-27T01:28:01.609815Z",
     "start_time": "2022-02-27T01:28:01.594829Z"
    }
   },
   "outputs": [],
   "source": [
    "df.columns[:-1]"
   ]
  },
  {
   "cell_type": "code",
   "execution_count": null,
   "metadata": {
    "ExecuteTime": {
     "end_time": "2022-02-27T01:28:01.625815Z",
     "start_time": "2022-02-27T01:28:01.610811Z"
    }
   },
   "outputs": [],
   "source": [
    "df.columns = ['Label', *df.columns[:-1]]"
   ]
  },
  {
   "cell_type": "code",
   "execution_count": null,
   "metadata": {
    "ExecuteTime": {
     "end_time": "2022-02-27T01:28:04.770282Z",
     "start_time": "2022-02-27T01:28:04.737283Z"
    }
   },
   "outputs": [],
   "source": [
    "df"
   ]
  },
  {
   "cell_type": "code",
   "execution_count": null,
   "metadata": {
    "ExecuteTime": {
     "end_time": "2022-02-27T01:31:37.846779Z",
     "start_time": "2022-02-27T01:31:37.824826Z"
    }
   },
   "outputs": [],
   "source": [
    "## --- How many rows have missing values, and how many? --- ##\n",
    "\n",
    "df.isna().sum(axis=1).value_counts()\n",
    "# df.isna().sum(axis=0)"
   ]
  },
  {
   "cell_type": "code",
   "execution_count": null,
   "metadata": {
    "ExecuteTime": {
     "end_time": "2022-02-27T02:06:05.974327Z",
     "start_time": "2022-02-27T02:06:05.959333Z"
    }
   },
   "outputs": [],
   "source": [
    "## --- Creating list of columns to keep/drop --- ##\n",
    "\n",
    "col_labels = ['Label', 'Bar', 'Dining Room', 'Room Service', 'Starbucks']\n",
    "\n",
    "keep_cols = []\n",
    "drop_cols = []\n",
    "\n",
    "# for col in df.columns:\n",
    "#     if col in col_labels:\n",
    "#         keep_cols.append(col)\n",
    "#     else:\n",
    "#         drop_cols.append(col)\n",
    "        \n",
    "# keep_cols, drop_cols\n",
    "\n",
    "for col in df.columns:\n",
    "    if col not in col_labels:\n",
    "        drop_cols.append(col)\n",
    "        \n",
    "drop_cols"
   ]
  },
  {
   "cell_type": "code",
   "execution_count": null,
   "metadata": {
    "ExecuteTime": {
     "end_time": "2022-02-27T02:06:55.164626Z",
     "start_time": "2022-02-27T02:06:55.144155Z"
    }
   },
   "outputs": [],
   "source": [
    "## --- Dropping columns not representing an outlet --- ##\n",
    "\n",
    "df = df.drop(columns = drop_cols)\n",
    "df"
   ]
  },
  {
   "cell_type": "code",
   "execution_count": null,
   "metadata": {},
   "outputs": [],
   "source": []
  },
  {
   "cell_type": "code",
   "execution_count": null,
   "metadata": {
    "ExecuteTime": {
     "end_time": "2022-02-27T01:44:52.641644Z",
     "start_time": "2022-02-27T01:44:52.606698Z"
    },
    "scrolled": true
   },
   "outputs": [],
   "source": [
    "## --- Filter out those rows with missing values --- ##\n",
    "\n",
    "df_cleaned = df[df.isna().sum(axis=1).min() == df.isna().sum(axis=1).min()]\n",
    "df_cleaned = df_cleaned.reset_index(drop=True)\n",
    "df_cleaned"
   ]
  },
  {
   "cell_type": "code",
   "execution_count": null,
   "metadata": {
    "ExecuteTime": {
     "end_time": "2022-02-27T01:30:58.375662Z",
     "start_time": "2022-02-27T01:30:58.368715Z"
    }
   },
   "outputs": [],
   "source": [
    "df_cleaned.shape"
   ]
  },
  {
   "cell_type": "markdown",
   "metadata": {},
   "source": [
    "# Workflow 2: Don't Drop Labels"
   ]
  },
  {
   "cell_type": "code",
   "execution_count": null,
   "metadata": {
    "ExecuteTime": {
     "end_time": "2022-02-27T00:40:37.174606Z",
     "start_time": "2022-02-27T00:40:37.160609Z"
    },
    "scrolled": true
   },
   "outputs": [],
   "source": [
    "## --- Create new DF to allow for later reuse --- ##\n",
    "\n",
    "df_no_drp = df_cleaned.copy()\n",
    "df_no_drp"
   ]
  },
  {
   "cell_type": "code",
   "execution_count": null,
   "metadata": {
    "ExecuteTime": {
     "end_time": "2022-02-27T00:40:37.189607Z",
     "start_time": "2022-02-27T00:40:37.175603Z"
    },
    "scrolled": true
   },
   "outputs": [],
   "source": [
    "## --- Dropping blank rows --- ##\n",
    "\n",
    "df_no_drp = df_no_drp[~df_no_drp.loc[:, \"Label\"].isin([' '])]\n",
    "df_no_drp"
   ]
  },
  {
   "cell_type": "code",
   "execution_count": null,
   "metadata": {
    "ExecuteTime": {
     "end_time": "2022-02-27T00:40:37.204607Z",
     "start_time": "2022-02-27T00:40:37.191603Z"
    },
    "code_folding": [],
    "scrolled": true
   },
   "outputs": [],
   "source": [
    "## --- Relabel and reset index with correct labels --- ##\n",
    "\n",
    "df_no_drp = df_no_drp.rename(df_no_drp[\"Label\"])\n",
    "df_no_drp = df_no_drp.drop(columns = \"Label\")\n",
    "df_no_drp"
   ]
  },
  {
   "cell_type": "code",
   "execution_count": null,
   "metadata": {
    "ExecuteTime": {
     "end_time": "2022-02-27T00:40:37.220607Z",
     "start_time": "2022-02-27T00:40:37.205604Z"
    },
    "scrolled": true
   },
   "outputs": [],
   "source": [
    "## --- Review datatypes --- ##\n",
    "\n",
    "df_no_drp.dtypes"
   ]
  },
  {
   "cell_type": "code",
   "execution_count": null,
   "metadata": {
    "ExecuteTime": {
     "end_time": "2022-02-27T00:40:37.251602Z",
     "start_time": "2022-02-27T00:40:37.222603Z"
    },
    "scrolled": true
   },
   "outputs": [],
   "source": [
    "## --- Recast columns to \"float\" datatype & review --- ##\n",
    "\n",
    "for col in df_no_drp.columns:\n",
    "    df_no_drp[col] = pd.to_numeric(df_no_drp[col], downcast = 'float')\n",
    "\n",
    "print(df_no_drp.dtypes)\n",
    "\n",
    "display(df_no_drp)"
   ]
  },
  {
   "cell_type": "code",
   "execution_count": null,
   "metadata": {
    "ExecuteTime": {
     "end_time": "2022-02-27T00:40:37.343607Z",
     "start_time": "2022-02-27T00:40:37.252603Z"
    },
    "scrolled": true
   },
   "outputs": [],
   "source": [
    "## --- Inspect results --- ##\n",
    "\n",
    "df_no_drp.T.describe().T"
   ]
  },
  {
   "cell_type": "code",
   "execution_count": null,
   "metadata": {
    "ExecuteTime": {
     "end_time": "2022-02-27T00:40:37.375603Z",
     "start_time": "2022-02-27T00:40:37.344607Z"
    }
   },
   "outputs": [],
   "source": [
    "## --- Create new total column --- ##\n",
    "\n",
    "df_no_drp['Total'] = df_no_drp.sum(axis=1)\n",
    "df_no_drp"
   ]
  },
  {
   "cell_type": "code",
   "execution_count": null,
   "metadata": {
    "ExecuteTime": {
     "end_time": "2022-02-27T00:40:37.391607Z",
     "start_time": "2022-02-27T00:40:37.377603Z"
    },
    "scrolled": false
   },
   "outputs": [],
   "source": [
    "## --- Filter rows without any activity --- ##\n",
    "\n",
    "## CURRENTLY UNUSED - FILTERING BELOW ##\n",
    "\n",
    "# df_no_zero = df_no_drp[df_no_drp['Total'] > 0]\n",
    "# df_no_zero"
   ]
  },
  {
   "cell_type": "markdown",
   "metadata": {},
   "source": [
    "# ⚠️ ⚒️ TODO: ⚒️ ⚠️"
   ]
  },
  {
   "cell_type": "markdown",
   "metadata": {},
   "source": [
    "1. Filter non-zero dataframe into common/uncommon categories\n",
    "2. Create DF w/ LS XAC for normal use\n",
    "3. Create DF w/ unusual cats w/ prompt to review"
   ]
  },
  {
   "cell_type": "code",
   "execution_count": null,
   "metadata": {
    "ExecuteTime": {
     "end_time": "2022-02-27T00:40:37.407606Z",
     "start_time": "2022-02-27T00:40:37.392603Z"
    }
   },
   "outputs": [],
   "source": [
    "## --- Identify all unique labels from total data --- ##\n",
    "\n",
    "df_no_drp.index.unique()"
   ]
  },
  {
   "cell_type": "code",
   "execution_count": null,
   "metadata": {
    "ExecuteTime": {
     "end_time": "2022-02-27T00:40:37.422606Z",
     "start_time": "2022-02-27T00:40:37.408605Z"
    }
   },
   "outputs": [],
   "source": [
    "## --- Create list of frequently-used labels --- ##\n",
    "\n",
    "freq_cats = ['Food', 'Beverage', 'Other','Discount', 'Charge','MD Food 6%',\n",
    "             'MD Liq 9%','Tip collected','ALL A&G CHRG', 'Room Charge',\n",
    "             'American Express', 'Cash', 'Discover Card', 'MasterCard',\n",
    "             'Visa']\n",
    "freq_cats"
   ]
  },
  {
   "cell_type": "code",
   "execution_count": null,
   "metadata": {
    "ExecuteTime": {
     "end_time": "2022-02-27T00:40:37.437607Z",
     "start_time": "2022-02-27T00:40:37.423609Z"
    }
   },
   "outputs": [],
   "source": [
    "## --- Filtering frequent labels from total data --- ##\n",
    "\n",
    "df_no_drp.loc[freq_cats, :]"
   ]
  },
  {
   "cell_type": "code",
   "execution_count": null,
   "metadata": {
    "ExecuteTime": {
     "end_time": "2022-02-27T00:40:37.453608Z",
     "start_time": "2022-02-27T00:40:37.438603Z"
    }
   },
   "outputs": [],
   "source": [
    "## --- Creating lists to subset the data --- ##\n",
    "\n",
    "cats_profit_centers = df_no_drp.columns[:-1]\n",
    "cats_revenue = ['Food','Beverage','Other','Charge']\n",
    "cats_disc = ['Discount']\n",
    "cats_tax = ['MD Food 6%', 'MD Liq 9%']\n",
    "cats_tips = ['Tip collected']\n",
    "cats_mops = ['ALL A&G CHRG', 'American Express', 'Room Charge', 'Cash',\n",
    "             'Discover Card', 'MasterCard', 'Visa']"
   ]
  },
  {
   "cell_type": "code",
   "execution_count": null,
   "metadata": {
    "ExecuteTime": {
     "end_time": "2022-02-27T00:40:37.469603Z",
     "start_time": "2022-02-27T00:40:37.456604Z"
    }
   },
   "outputs": [],
   "source": [
    "# bar_post_rev = {}\n",
    "\n",
    "# for cat in cats_revenue:\n",
    "# #     bar_post_rev[cat] = df_no_drp.loc[freq_cats,cat]\n",
    "#     print(df_no_drp.loc[cat, 'Lounge'])"
   ]
  },
  {
   "cell_type": "markdown",
   "metadata": {},
   "source": [
    "#   ⚠️ ERROR ⚠️"
   ]
  },
  {
   "cell_type": "markdown",
   "metadata": {},
   "source": [
    "* Need to switch to individual MOP reports\n",
    "    * PC report shows total sums\n",
    "    * Need to break down by MOP for proper details"
   ]
  },
  {
   "cell_type": "code",
   "execution_count": null,
   "metadata": {
    "ExecuteTime": {
     "end_time": "2022-02-27T00:40:37.484607Z",
     "start_time": "2022-02-27T00:40:37.470608Z"
    }
   },
   "outputs": [],
   "source": [
    "## --- Pulling yesterday's files --- ##\n",
    "## --- Useful for processing during Daily reporting, but not same-day\n",
    "yesterday = datetime.now() - timedelta(1)    \n",
    "\n",
    "yd_str = datetime.strftime(yesterday, '%m_%d_%Y')\n",
    "yd_str"
   ]
  },
  {
   "cell_type": "code",
   "execution_count": null,
   "metadata": {
    "ExecuteTime": {
     "end_time": "2022-02-27T00:40:37.500608Z",
     "start_time": "2022-02-27T00:40:37.485607Z"
    }
   },
   "outputs": [],
   "source": [
    "## --- Pulling today's files --- ##\n",
    "\n",
    "today = datetime.now()   \n",
    "\n",
    "td_str = datetime.strftime(today, '%m_%d_%Y')\n",
    "td_str"
   ]
  },
  {
   "cell_type": "code",
   "execution_count": null,
   "metadata": {
    "ExecuteTime": {
     "end_time": "2022-02-27T00:40:37.515607Z",
     "start_time": "2022-02-27T00:40:37.501608Z"
    }
   },
   "outputs": [],
   "source": [
    "list_mops = ['ag', 'ax', 'ca', 'di', 'rc', 'vimc']"
   ]
  },
  {
   "cell_type": "code",
   "execution_count": null,
   "metadata": {
    "ExecuteTime": {
     "end_time": "2022-02-27T00:45:39.096806Z",
     "start_time": "2022-02-27T00:45:39.075837Z"
    }
   },
   "outputs": [],
   "source": [
    "def clean_data(file_path):\n",
    "    \"\"\"Work flow to import, clean, and eventually save the results as a new report.\n",
    "\n",
    "    Args:\n",
    "        file_path (string): file path for the original profit center report\n",
    "    \"\"\"    \n",
    "\n",
    "    ## --- Read specific columns from Excel file --- ##\n",
    "\n",
    "    df = pd.read_excel(file_path, header = None, skiprows = 3,\n",
    "#                     usecols = 'A, B, D, F, H', \n",
    "                    names = ['Label', 'Lounge', 'Rain 903', 'In-Room Dining',\n",
    "                                'Coffee Corner'])\n",
    "    # df\n",
    "\n",
    "    ## --- How many rows have missing values, and how many? --- ##\n",
    "\n",
    "    # df.isna().sum(axis=1).value_counts()\n",
    "\n",
    "    ## --- Filter out those rows with missing values --- ##\n",
    "\n",
    "    df_cleaned = df[df.isna().sum(axis=1) ==0]\n",
    "    df_cleaned = df_cleaned.reset_index(drop=True)\n",
    "    # df_cleaned\n",
    "\n",
    "    ## --- Create new DF to allow for later reuse --- ##\n",
    "\n",
    "    df_no_drp = df_cleaned.copy()\n",
    "    # df_no_drp\n",
    "\n",
    "    ## --- Dropping blank rows --- ##\n",
    "\n",
    "    df_no_drp = df_no_drp[~df_no_drp.loc[:, \"Label\"].isin([' '])]\n",
    "    # df_no_drp\n",
    "\n",
    "    ## --- Relabel and reset index with correct labels --- ##\n",
    "\n",
    "    df_no_drp = df_no_drp.rename(df_no_drp[\"Label\"])\n",
    "    df_no_drp = df_no_drp.drop(columns = \"Label\")\n",
    "    # df_no_drp\n",
    "\n",
    "    ## --- Review datatypes --- ##\n",
    "\n",
    "    df_no_drp.dtypes\n",
    "\n",
    "    ## --- Recast columns to \"float\" datatype & review --- ##\n",
    "\n",
    "    for col in df_no_drp.columns:\n",
    "        df_no_drp[col] = pd.to_numeric(df_no_drp[col], downcast = 'float')\n",
    "\n",
    "    # print(df_no_drp.dtypes)\n",
    "\n",
    "    # display(df_no_drp)\n",
    "\n",
    "    # ## --- Inspect results --- ##\n",
    "\n",
    "    # df_no_drp.T.describe().T\n",
    "\n",
    "    # ## --- Create new total column --- ##\n",
    "\n",
    "    # df_no_drp['Total'] = df_no_drp.sum(axis=1)\n",
    "    # df_no_drp\n",
    "\n",
    "    # ## --- Filter rows without any activity --- ##\n",
    "\n",
    "    # df_no_zero = df_no_drp[df_no_drp['Total'] > 0]\n",
    "    # df_no_zero\n",
    "\n",
    "    return df_no_drp"
   ]
  },
  {
   "cell_type": "code",
   "execution_count": null,
   "metadata": {
    "ExecuteTime": {
     "end_time": "2022-02-27T00:45:40.316256Z",
     "start_time": "2022-02-27T00:45:40.258156Z"
    }
   },
   "outputs": [],
   "source": [
    "dict_reports = {}\n",
    "# report_link = f'{yd_str}_mop_det_\n",
    "\n",
    "for mop in list_mops:\n",
    "    dict_reports[mop] = clean_data(f'./data/{yd_str}_mop_det_{mop}.xls')"
   ]
  },
  {
   "cell_type": "code",
   "execution_count": null,
   "metadata": {
    "ExecuteTime": {
     "end_time": "2022-02-27T00:45:42.911534Z",
     "start_time": "2022-02-27T00:45:42.896564Z"
    }
   },
   "outputs": [],
   "source": [
    "dict_reports.keys()"
   ]
  },
  {
   "cell_type": "code",
   "execution_count": null,
   "metadata": {
    "ExecuteTime": {
     "end_time": "2022-02-27T00:45:43.298201Z",
     "start_time": "2022-02-27T00:45:43.277247Z"
    }
   },
   "outputs": [],
   "source": [
    "dict_reports['vimc']"
   ]
  },
  {
   "cell_type": "code",
   "execution_count": null,
   "metadata": {},
   "outputs": [],
   "source": []
  },
  {
   "cell_type": "code",
   "execution_count": null,
   "metadata": {},
   "outputs": [],
   "source": []
  },
  {
   "cell_type": "markdown",
   "metadata": {},
   "source": [
    "# Workflow 1: Dropping Unused Labels"
   ]
  },
  {
   "cell_type": "markdown",
   "metadata": {},
   "source": [
    "---\n",
    "\n",
    "**Dropping Labels**\n",
    "\n",
    "> Currently, I ignore several sections of the report as they do not report any relevant details. However, **this may lead us to overlook any irregular data.**\n",
    ">\n",
    "> This work flow focused on the most commonly used section of the report, highlighting the details used for NA.\n",
    ">\n",
    "> While I prefer a more inclusive approach, I am keeping this work flow for reference.\n",
    "\n",
    "---"
   ]
  },
  {
   "cell_type": "code",
   "execution_count": null,
   "metadata": {
    "ExecuteTime": {
     "end_time": "2022-02-27T00:40:37.639607Z",
     "start_time": "2022-02-27T00:40:37.624603Z"
    },
    "scrolled": true
   },
   "outputs": [],
   "source": [
    "## --- Identify unique labels to determine which to drop --- ##\n",
    "\n",
    "df_cleaned.loc[:, \"Label\"].unique()"
   ]
  },
  {
   "cell_type": "code",
   "execution_count": null,
   "metadata": {
    "ExecuteTime": {
     "end_time": "2022-02-27T00:40:37.655719Z",
     "start_time": "2022-02-27T00:40:37.640608Z"
    }
   },
   "outputs": [],
   "source": [
    "## --- Create list of labels to drop --- ##\n",
    "\n",
    "drop_labels = ['Sales Subtotal', 'Total before tax', 'None', 'None', \n",
    "               'Tax Subtotal','Receipt Rounding','Total of check', ' ', 'Unadjusted receipts',\n",
    "               'PaidIn - AR', 'PaidIn - Debitek','PaidIn - Gift Certificates',\n",
    "               'No of Covers', 'No of Checks', 'Avg cover', 'Avg check',\n",
    "               'Total Paid Outs', 'Server bank', 'Total tips',\n",
    "               'Server credit card fees', 'Net tips', 'Net Cash',\n",
    "               'Other receipts turned in', 'Server Drops', 'Turned in',\n",
    "               'Restaurant credit card fees', 'Estimated deposit',\n",
    "               'Beginning NRS Total', 'Total Receipts', 'Discounts',\n",
    "               'Paid Ins','Gross Total', 'NRS Total']\n",
    "drop_labels"
   ]
  },
  {
   "cell_type": "code",
   "execution_count": null,
   "metadata": {
    "ExecuteTime": {
     "end_time": "2022-02-27T00:40:37.671720Z",
     "start_time": "2022-02-27T00:40:37.656721Z"
    }
   },
   "outputs": [],
   "source": [
    "## --- Drop specified labels and save to new DF --- ##\n",
    "\n",
    "df_new_idx =df_cleaned[~df_cleaned.loc[:, \"Label\"].isin(drop_labels)]\n",
    "df_new_idx"
   ]
  },
  {
   "cell_type": "code",
   "execution_count": null,
   "metadata": {
    "ExecuteTime": {
     "end_time": "2022-02-27T00:40:37.687719Z",
     "start_time": "2022-02-27T00:40:37.672722Z"
    }
   },
   "outputs": [],
   "source": [
    "## --- Rename index with remaining labels --- ##\n",
    "\n",
    "df_new_idx = df_new_idx.rename(df_cleaned[\"Label\"])\n",
    "df_new_idx = df_new_idx.drop(columns = \"Label\")\n",
    "df_new_idx"
   ]
  },
  {
   "cell_type": "markdown",
   "metadata": {},
   "source": [
    "# ⚠️ CONDENSE W/ UPPER WF ⚠️"
   ]
  },
  {
   "cell_type": "code",
   "execution_count": null,
   "metadata": {
    "ExecuteTime": {
     "end_time": "2022-02-27T00:40:37.702719Z",
     "start_time": "2022-02-27T00:40:37.688720Z"
    },
    "scrolled": true
   },
   "outputs": [],
   "source": [
    "## --- Review remaining datatypes --- ##\n",
    "\n",
    "df_new_idx.dtypes"
   ]
  },
  {
   "cell_type": "code",
   "execution_count": null,
   "metadata": {
    "ExecuteTime": {
     "end_time": "2022-02-27T00:40:37.717792Z",
     "start_time": "2022-02-27T00:40:37.703716Z"
    },
    "scrolled": true
   },
   "outputs": [],
   "source": [
    "## --- Recast DT --- ##\n",
    "\n",
    "for col in df_new_idx.columns:\n",
    "    df_new_idx[col] = pd.to_numeric(df_new_idx[col], downcast = 'float')\n",
    "\n",
    "df_new_idx.dtypes"
   ]
  },
  {
   "cell_type": "code",
   "execution_count": null,
   "metadata": {
    "ExecuteTime": {
     "end_time": "2022-02-27T00:40:37.765719Z",
     "start_time": "2022-02-27T00:40:37.718781Z"
    }
   },
   "outputs": [],
   "source": [
    "## --- Inspect results --- ##\n",
    "\n",
    "df_new_idx.T.describe()"
   ]
  },
  {
   "cell_type": "code",
   "execution_count": null,
   "metadata": {
    "ExecuteTime": {
     "end_time": "2022-02-27T00:40:37.781719Z",
     "start_time": "2022-02-27T00:40:37.766716Z"
    }
   },
   "outputs": [],
   "source": [
    "## --- Create new total column --- ##\n",
    "\n",
    "df_new_idx['Total'] = df_new_idx.sum(axis=1)\n",
    "df_new_idx"
   ]
  },
  {
   "cell_type": "code",
   "execution_count": null,
   "metadata": {
    "ExecuteTime": {
     "end_time": "2022-02-27T00:40:37.797720Z",
     "start_time": "2022-02-27T00:40:37.782716Z"
    }
   },
   "outputs": [],
   "source": [
    "## --- Filter out zero sums --- ##\n",
    "\n",
    "df_compressed = df_new_idx[df_new_idx['Total'] >0]\n",
    "df_compressed"
   ]
  },
  {
   "cell_type": "code",
   "execution_count": null,
   "metadata": {
    "ExecuteTime": {
     "end_time": "2022-02-27T00:40:37.813719Z",
     "start_time": "2022-02-27T00:40:37.798716Z"
    }
   },
   "outputs": [],
   "source": [
    "df_compressed['Lounge']['Food']"
   ]
  },
  {
   "cell_type": "code",
   "execution_count": null,
   "metadata": {
    "ExecuteTime": {
     "end_time": "2022-02-27T00:40:37.829716Z",
     "start_time": "2022-02-27T00:40:37.814721Z"
    }
   },
   "outputs": [],
   "source": [
    "## --- Test print statements for logging purposes --- ##\n",
    "\n",
    "for col in df_compressed.columns[:-1]:\n",
    "    print(f\"Post to {col} food: {df_compressed[col]['Food']+df_compressed[col]['Other']:.2f}\")"
   ]
  },
  {
   "cell_type": "code",
   "execution_count": null,
   "metadata": {
    "ExecuteTime": {
     "end_time": "2022-02-27T00:40:37.845719Z",
     "start_time": "2022-02-27T00:40:37.830720Z"
    }
   },
   "outputs": [],
   "source": [
    "## --- Further testing for logging purposes --- ##\n",
    "\n",
    "dept_list = [\"Rain 903\", \"In Room Dining\", \"Coffee Corner\", \"Lobby Bar\"]\n",
    "sd_list = [\"Food\", \"Liquor\", \"Tax\", \"Gratuity\"]\n",
    "\n",
    "for dept in dept_list:\n",
    "    for sd in sd_list:\n",
    "        print(dept+\" - \"+sd)"
   ]
  },
  {
   "cell_type": "code",
   "execution_count": null,
   "metadata": {},
   "outputs": [],
   "source": []
  }
 ],
 "metadata": {
  "kernelspec": {
   "display_name": "Python (bmcds)",
   "language": "python",
   "name": "bmcds"
  },
  "language_info": {
   "codemirror_mode": {
    "name": "ipython",
    "version": 3
   },
   "file_extension": ".py",
   "mimetype": "text/x-python",
   "name": "python",
   "nbconvert_exporter": "python",
   "pygments_lexer": "ipython3",
   "version": "3.8.5"
  },
  "toc": {
   "base_numbering": 1,
   "nav_menu": {},
   "number_sections": true,
   "sideBar": true,
   "skip_h1_title": false,
   "title_cell": "Table of Contents",
   "title_sidebar": "Contents",
   "toc_cell": true,
   "toc_position": {
    "height": "calc(100% - 180px)",
    "left": "10px",
    "top": "150px",
    "width": "165px"
   },
   "toc_section_display": true,
   "toc_window_display": true
  }
 },
 "nbformat": 4,
 "nbformat_minor": 4
}
