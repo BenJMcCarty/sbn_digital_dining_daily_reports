{
 "cells": [
  {
   "cell_type": "markdown",
   "metadata": {
    "toc": true
   },
   "source": [
    "<h1>Table of Contents<span class=\"tocSkip\"></span></h1>\n",
    "<div class=\"toc\"><ul class=\"toc-item\"><li><span><a href=\"#Intro\" data-toc-modified-id=\"Intro-1\"><span class=\"toc-item-num\">1&nbsp;&nbsp;</span>Intro</a></span></li><li><span><a href=\"#⭐-STAR-⭐\" data-toc-modified-id=\"⭐-STAR-⭐-2\"><span class=\"toc-item-num\">2&nbsp;&nbsp;</span>⭐ STAR ⭐</a></span><ul class=\"toc-item\"><li><span><a href=\"#🔎-Situation-🔍\" data-toc-modified-id=\"🔎-Situation-🔍-2.1\"><span class=\"toc-item-num\">2.1&nbsp;&nbsp;</span>🔎 Situation 🔍</a></span></li><li><span><a href=\"#⚠️-Threat-⚠️\" data-toc-modified-id=\"⚠️-Threat-⚠️-2.2\"><span class=\"toc-item-num\">2.2&nbsp;&nbsp;</span>⚠️ Threat ⚠️</a></span></li><li><span><a href=\"#⚒️-Action-⚒️\" data-toc-modified-id=\"⚒️-Action-⚒️-2.3\"><span class=\"toc-item-num\">2.3&nbsp;&nbsp;</span>⚒️ Action ⚒️</a></span></li><li><span><a href=\"#📋-Result-📋\" data-toc-modified-id=\"📋-Result-📋-2.4\"><span class=\"toc-item-num\">2.4&nbsp;&nbsp;</span>📋 Result 📋</a></span></li></ul></li><li><span><a href=\"#📦-Imports\" data-toc-modified-id=\"📦-Imports-3\"><span class=\"toc-item-num\">3&nbsp;&nbsp;</span>📦 Imports</a></span></li><li><span><a href=\"#Read-Data\" data-toc-modified-id=\"Read-Data-4\"><span class=\"toc-item-num\">4&nbsp;&nbsp;</span>Read Data</a></span></li><li><span><a href=\"#🧼-Cleaning\" data-toc-modified-id=\"🧼-Cleaning-5\"><span class=\"toc-item-num\">5&nbsp;&nbsp;</span>🧼 Cleaning</a></span></li><li><span><a href=\"#🔨-Workflow-1:-Keep-All-Row-Labels\" data-toc-modified-id=\"🔨-Workflow-1:-Keep-All-Row-Labels-6\"><span class=\"toc-item-num\">6&nbsp;&nbsp;</span>🔨 Workflow 1: Keep All Row Labels</a></span><ul class=\"toc-item\"><li><span><a href=\"#Creating-Summary-for-Posting\" data-toc-modified-id=\"Creating-Summary-for-Posting-6.1\"><span class=\"toc-item-num\">6.1&nbsp;&nbsp;</span>Creating Summary for Posting</a></span></li></ul></li><li><span><a href=\"#Summarizing-the-Summary\" data-toc-modified-id=\"Summarizing-the-Summary-7\"><span class=\"toc-item-num\">7&nbsp;&nbsp;</span>Summarizing the Summary</a></span></li><li><span><a href=\"#ƒ:-Workflow\" data-toc-modified-id=\"ƒ:-Workflow-8\"><span class=\"toc-item-num\">8&nbsp;&nbsp;</span>ƒ: Workflow</a></span></li><li><span><a href=\"#So-Far...\" data-toc-modified-id=\"So-Far...-9\"><span class=\"toc-item-num\">9&nbsp;&nbsp;</span>So Far...</a></span></li><li><span><a href=\"#3.15.22\" data-toc-modified-id=\"3.15.22-10\"><span class=\"toc-item-num\">10&nbsp;&nbsp;</span>3.15.22</a></span></li><li><span><a href=\"#Generating-Alerts-for-RC:-Dupes-and-A&amp;G\" data-toc-modified-id=\"Generating-Alerts-for-RC:-Dupes-and-A&amp;G-11\"><span class=\"toc-item-num\">11&nbsp;&nbsp;</span>Generating Alerts for RC: Dupes and A&amp;G</a></span><ul class=\"toc-item\"><li><span><a href=\"#Using-Python-Logger\" data-toc-modified-id=\"Using-Python-Logger-11.1\"><span class=\"toc-item-num\">11.1&nbsp;&nbsp;</span>Using Python Logger</a></span></li></ul></li><li><span><a href=\"#Checkpoint---4.19.22\" data-toc-modified-id=\"Checkpoint---4.19.22-12\"><span class=\"toc-item-num\">12&nbsp;&nbsp;</span>Checkpoint - 4.19.22</a></span></li><li><span><a href=\"#Final-Script\" data-toc-modified-id=\"Final-Script-13\"><span class=\"toc-item-num\">13&nbsp;&nbsp;</span>Final Script</a></span></li><li><span><a href=\"#⚠️-Old-Code---Raises-Error\" data-toc-modified-id=\"⚠️-Old-Code---Raises-Error-14\"><span class=\"toc-item-num\">14&nbsp;&nbsp;</span>⚠️ Old Code - Raises Error</a></span><ul class=\"toc-item\"><li><span><a href=\"#✔️-FIXED-ERROR-✔️\" data-toc-modified-id=\"✔️-FIXED-ERROR-✔️-14.1\"><span class=\"toc-item-num\">14.1&nbsp;&nbsp;</span>✔️ FIXED ERROR ✔️</a></span></li><li><span><a href=\"#⚠️-⚒️-TODO:-⚒️-⚠️\" data-toc-modified-id=\"⚠️-⚒️-TODO:-⚒️-⚠️-14.2\"><span class=\"toc-item-num\">14.2&nbsp;&nbsp;</span>⚠️ ⚒️ TODO: ⚒️ ⚠️</a></span></li><li><span><a href=\"#Workflow-1:-Dropping-Unused-Labels\" data-toc-modified-id=\"Workflow-1:-Dropping-Unused-Labels-14.3\"><span class=\"toc-item-num\">14.3&nbsp;&nbsp;</span>Workflow 1: Dropping Unused Labels</a></span></li><li><span><a href=\"#⚠️-CONDENSE-W/-UPPER-WF-⚠️\" data-toc-modified-id=\"⚠️-CONDENSE-W/-UPPER-WF-⚠️-14.4\"><span class=\"toc-item-num\">14.4&nbsp;&nbsp;</span>⚠️ CONDENSE W/ UPPER WF ⚠️</a></span></li></ul></li></ul></div>"
   ]
  },
  {
   "cell_type": "markdown",
   "metadata": {},
   "source": [
    "# Intro"
   ]
  },
  {
   "cell_type": "markdown",
   "metadata": {},
   "source": [
    "# ⭐ STAR ⭐"
   ]
  },
  {
   "cell_type": "markdown",
   "metadata": {},
   "source": [
    "## 🔎 Situation 🔍"
   ]
  },
  {
   "cell_type": "markdown",
   "metadata": {},
   "source": [
    "---\n",
    "\n",
    "* NA uses DRR summary reports to post revenue in LS\n",
    "* I use report packet to review for DRR\n",
    "\n",
    "---"
   ]
  },
  {
   "cell_type": "markdown",
   "metadata": {},
   "source": [
    "## ⚠️ Threat ⚠️"
   ]
  },
  {
   "cell_type": "markdown",
   "metadata": {},
   "source": [
    "---\n",
    "\n",
    "* **Pro:** clearly provide total sum amounts for audit to post directly\n",
    "\n",
    "* **Cons:**\n",
    "    * \"Food\" = \"Food\" + \"Other\"\n",
    "    * Discounts are ambiguous\n",
    "        * FBC vs. Assoc vs. others\n",
    "    * *LOTS* of unused rows/labels create visual confusion\n",
    "    * Not always clear to which XAC to post revenue/tax/tips\n",
    "    * Unusual/new/unused categories are not always accounted for\n",
    "\n",
    "All issues result in manual review of all transactions during the Daily reporting process.\n",
    "\n",
    "---\n",
    "    "
   ]
  },
  {
   "cell_type": "markdown",
   "metadata": {},
   "source": [
    "## ⚒️ Action ⚒️"
   ]
  },
  {
   "cell_type": "markdown",
   "metadata": {},
   "source": [
    "---\n",
    "\n",
    "**Create workflow to:**\n",
    "\n",
    "* *Read existing DD reports*\n",
    "\n",
    "\n",
    "* *Clean the report to isolate relevant details*\n",
    "\n",
    "\n",
    "* *Report any irregularities:*\n",
    "    * Any discounts or charges?\n",
    "    * Any new/non-standard MOPs?\n",
    "    * Report exact amounts to post to each LS XAC\n",
    "        * See below\n",
    "\n",
    "---"
   ]
  },
  {
   "cell_type": "markdown",
   "metadata": {},
   "source": [
    "---\n",
    "\n",
    "**End Goal:**\n",
    "\n",
    "---\n",
    "\n",
    "> **Post these amounts in LightSpeed:**\n",
    "\n",
    "<!-- | |Dept | Rain 903 | IRD  | CC | Bar| \n",
    "| - | - | - | - | - | - |\n",
    "|**Sub-Dept** | |  |  |  |\n",
    "|Food | 1.00 | 1.00 | 1.00 | 1.00 |\n",
    "|Liquor | 2.00 | 2.00 | 2.00 | 2.00 \n",
    "|Tax | 3.00 | 3.00 | 3.00 | 3.00 \n",
    "|Gratuity | 4.00 | 4.00 | 4.00 | 4.00  -->\n",
    "\n",
    "|Dept| Food | Liquor | Tax  | Gratuity | \n",
    "| -  | -    | -      | -    | -        |\n",
    "| DR | 1.00 | 1.00   | 1.00 | 1.00     |\n",
    "| RS | 4.00 | 4.00   | 4.00 | 4.00     |\n",
    "| CC | 1.00 | 1.00   | 1.00 | 1.00     |\n",
    "| LB | 4.00 | 4.00   | 4.00 | 4.00     |\n",
    "\n",
    "---\n",
    "\n",
    " >**Investigate these amounts:**\n",
    " \n",
    " | Item            | Amount |\n",
    " | -               | - |\n",
    " | Discount        | 1.00 |\n",
    " | Charge          | 1.00 |\n",
    " | $2 Tip - Coupon | 1.00 |\n",
    "\n",
    "---"
   ]
  },
  {
   "cell_type": "markdown",
   "metadata": {},
   "source": [
    "## 📋 Result 📋"
   ]
  },
  {
   "cell_type": "markdown",
   "metadata": {},
   "source": [
    "# 📦 Imports"
   ]
  },
  {
   "cell_type": "markdown",
   "metadata": {},
   "source": [
    "---\n",
    "\n",
    "I will **use standard data reading/wrangling/EDA packages,** such as Numpy, Pandas, Matplotlib, and Seaborn, to prepare and review my data prior to generating the final report.\n",
    "\n",
    "Additionally, I will **import my own personal EDA module,** containing a selection of hand-written functions to make the EDA process a bit easier.\n",
    "\n",
    "Finally, I will **create two particular variables to help determine the source data:**\n",
    "1. A Boolean variable controlling whether to use the reference files included in this repo (versus live/new reports).\n",
    "2. A filepath as a string datatype to import the data.\n",
    "\n",
    "---"
   ]
  },
  {
   "cell_type": "code",
   "execution_count": null,
   "metadata": {
    "ExecuteTime": {
     "end_time": "2022-04-19T18:35:10.111873Z",
     "start_time": "2022-04-19T18:35:07.484809Z"
    }
   },
   "outputs": [],
   "source": [
    "## Importing Packages\n",
    "\n",
    "import numpy as np\n",
    "import pandas as pd\n",
    "import matplotlib.pyplot as plt\n",
    "import seaborn as sns\n",
    "\n",
    "# from datetime import datetime, timedelta\n",
    "\n",
    "import logging\n",
    "\n",
    "import bmcds.eda as eda\n",
    "\n",
    "pd.set_option('display.max_rows', None)\n",
    "pd.set_option('display.float_format', '{:.2f}'.format)\n",
    "%matplotlib inline\n",
    "\n",
    "logging.basicConfig(level=logging.INFO, format='%(asctime)s - %(message)s', \n",
    "                    datefmt='%d-%b-%y %H:%M:%S',filename='logs.log',filemode='a')\n",
    "\n",
    "## Adapted from http://docs.python.org/howto/logging-cookbook.html#logging-cookbook\n",
    "\n",
    "# Create logger and set level\n",
    "logger = logging.getLogger('Report_Logs')\n",
    "logger.setLevel(logging.INFO)\n",
    "\n",
    "# Create log file\n",
    "fh = logging.FileHandler('logs.log')\n",
    "fh.setLevel(logging.INFO)\n",
    "\n",
    "formatter = logging.Formatter('%(asctime)s - %(name)s - %(levelname)s - %(message)s')\n",
    "fh.setFormatter(formatter)\n",
    "\n",
    "logger.addHandler(fh)"
   ]
  },
  {
   "cell_type": "markdown",
   "metadata": {},
   "source": [
    "#  Read Data"
   ]
  },
  {
   "cell_type": "code",
   "execution_count": null,
   "metadata": {
    "ExecuteTime": {
     "end_time": "2022-04-19T18:35:10.127837Z",
     "start_time": "2022-04-19T18:35:10.112910Z"
    }
   },
   "outputs": [],
   "source": [
    "## Specify file path\n",
    "\n",
    "file_path = './data/02_25_2022_pc.xls'"
   ]
  },
  {
   "cell_type": "code",
   "execution_count": null,
   "metadata": {
    "ExecuteTime": {
     "end_time": "2022-04-19T18:35:10.143792Z",
     "start_time": "2022-04-19T18:35:10.132837Z"
    },
    "scrolled": true
   },
   "outputs": [],
   "source": [
    "# ## Read specific columns from Excel file\n",
    "\n",
    "# df = pd.read_excel(file_path, skiprows = 3, header = None,\n",
    "#                    usecols = 'A, B, D, F, H', \n",
    "#                    names = ['Label', 'Lounge', 'Rain 903', 'In-Room Dining',\n",
    "#                             'Coffee Corner'])\n",
    "# df"
   ]
  },
  {
   "cell_type": "code",
   "execution_count": null,
   "metadata": {
    "ExecuteTime": {
     "end_time": "2022-04-19T18:35:10.221786Z",
     "start_time": "2022-04-19T18:35:10.146786Z"
    }
   },
   "outputs": [],
   "source": [
    "## Read all columns from file (incl. empty columns)\n",
    "\n",
    "df = pd.read_excel(file_path, skiprows = 2)\n",
    "df"
   ]
  },
  {
   "cell_type": "markdown",
   "metadata": {},
   "source": [
    "# 🧼 Cleaning"
   ]
  },
  {
   "cell_type": "markdown",
   "metadata": {},
   "source": [
    "---\n",
    "\n",
    "I imported the data into a dataframe and immediately see that I will need to fix the alignment of my column names.\n",
    "\n",
    "Additionally, there are several \"Unnamed\" columns (representing empty, unlabeled columns generated as part of the report). Knowing those columns are empty, I will drop those as well.\n",
    "\n",
    "---"
   ]
  },
  {
   "cell_type": "code",
   "execution_count": null,
   "metadata": {
    "ExecuteTime": {
     "end_time": "2022-04-19T18:35:10.253665Z",
     "start_time": "2022-04-19T18:35:10.222786Z"
    }
   },
   "outputs": [],
   "source": [
    "## Shifting label names one to the right and drop extra column\n",
    "\n",
    "df.columns = ['Label', *df.columns[:-1]]\n",
    "df"
   ]
  },
  {
   "cell_type": "code",
   "execution_count": null,
   "metadata": {
    "ExecuteTime": {
     "end_time": "2022-04-19T18:35:10.269624Z",
     "start_time": "2022-04-19T18:35:10.256657Z"
    }
   },
   "outputs": [],
   "source": [
    "## Creating list of columns to keep/drop\n",
    "\n",
    "col_labels = ['Label', 'Bar', 'Dining Room', 'Room Service', 'Starbucks']\n",
    "drop_cols = []\n",
    "\n",
    "for col in df.columns:\n",
    "    if col not in col_labels:\n",
    "        drop_cols.append(col)\n",
    "        \n",
    "drop_cols"
   ]
  },
  {
   "cell_type": "code",
   "execution_count": null,
   "metadata": {
    "ExecuteTime": {
     "end_time": "2022-04-19T18:35:10.300569Z",
     "start_time": "2022-04-19T18:35:10.272616Z"
    }
   },
   "outputs": [],
   "source": [
    "## Dropping columns not representing an outlet\n",
    "\n",
    "df = df.drop(columns = drop_cols)\n",
    "df"
   ]
  },
  {
   "cell_type": "markdown",
   "metadata": {},
   "source": [
    "---\n",
    "\n",
    "Now that I re-labeled the columns to match the data, I see there are blank rows between each row, similar to the blank columns experienced above.\n",
    "\n",
    "Knowing that the reports do not have any rows that are either missing values or completely blank, I will drop rows with any blank values.\n",
    "\n",
    "---"
   ]
  },
  {
   "cell_type": "code",
   "execution_count": null,
   "metadata": {
    "ExecuteTime": {
     "end_time": "2022-04-19T18:35:10.316527Z",
     "start_time": "2022-04-19T18:35:10.303532Z"
    }
   },
   "outputs": [],
   "source": [
    "## How many rows have missing values, and how many do they contain?\n",
    "\n",
    "df.isna().sum(axis=1).value_counts()\n",
    "# df.isna().sum(axis=0)"
   ]
  },
  {
   "cell_type": "code",
   "execution_count": null,
   "metadata": {
    "ExecuteTime": {
     "end_time": "2022-04-19T18:35:10.332484Z",
     "start_time": "2022-04-19T18:35:10.317525Z"
    },
    "scrolled": true
   },
   "outputs": [],
   "source": [
    "## Displaying only rows without any missing values\n",
    "\n",
    "df[df.isna().sum(axis=1) == 0]"
   ]
  },
  {
   "cell_type": "code",
   "execution_count": null,
   "metadata": {
    "ExecuteTime": {
     "end_time": "2022-04-19T18:35:10.348411Z",
     "start_time": "2022-04-19T18:35:10.335447Z"
    },
    "scrolled": true
   },
   "outputs": [],
   "source": [
    "## Displaying only rows missing any values\n",
    "\n",
    "# df[df.isna().sum(axis=1) > 0]\n",
    "df[df.isna().sum(axis=1) > 0].value_counts(dropna=False)"
   ]
  },
  {
   "cell_type": "markdown",
   "metadata": {},
   "source": [
    "---\n",
    "\n",
    "The simple filtering above confirms my assumption that rows missing any number of missing values do not contain any relevant information. In the normal printout, these rows would be blank spaces between lines.\n",
    "\n",
    "Additionally, I noticed there are a few rows that are \"blank;\" they contain some sort of data, but they do not provide meaningful information.\n",
    "\n",
    "I will filter out rows with missing values and blank rows.\n",
    "\n",
    "---"
   ]
  },
  {
   "cell_type": "code",
   "execution_count": null,
   "metadata": {
    "ExecuteTime": {
     "end_time": "2022-04-19T18:35:10.364405Z",
     "start_time": "2022-04-19T18:35:10.350407Z"
    }
   },
   "outputs": [],
   "source": [
    "## Checking size of dataframe prior to dropping rows\n",
    "df.shape"
   ]
  },
  {
   "cell_type": "code",
   "execution_count": null,
   "metadata": {
    "ExecuteTime": {
     "end_time": "2022-04-19T18:35:10.380365Z",
     "start_time": "2022-04-19T18:35:10.366406Z"
    },
    "scrolled": true
   },
   "outputs": [],
   "source": [
    "## Checking for blank rows\n",
    "df['Label'].value_counts()"
   ]
  },
  {
   "cell_type": "code",
   "execution_count": null,
   "metadata": {
    "ExecuteTime": {
     "end_time": "2022-04-19T18:35:10.396314Z",
     "start_time": "2022-04-19T18:35:10.382351Z"
    }
   },
   "outputs": [],
   "source": [
    "## Reviewing rows containing a blank space for a label\n",
    "df[df.loc[:, \"Label\"].isin([' '])]"
   ]
  },
  {
   "cell_type": "code",
   "execution_count": null,
   "metadata": {
    "ExecuteTime": {
     "end_time": "2022-04-19T18:35:10.437177Z",
     "start_time": "2022-04-19T18:35:10.397310Z"
    },
    "scrolled": true
   },
   "outputs": [],
   "source": [
    "## Filter out those rows with missing/blank values\n",
    "\n",
    "df_cleaned = df[df.isna().sum(axis=1) == 0]\n",
    "df_cleaned = df_cleaned[~df_cleaned.loc[:, \"Label\"].isin([' '])]\n",
    "df_cleaned = df_cleaned.reset_index(drop=True)\n",
    "df_cleaned"
   ]
  },
  {
   "cell_type": "code",
   "execution_count": null,
   "metadata": {
    "ExecuteTime": {
     "end_time": "2022-04-19T18:35:10.444185Z",
     "start_time": "2022-04-19T18:35:10.438206Z"
    }
   },
   "outputs": [],
   "source": [
    "## Checking number of rows post-drop\n",
    "\n",
    "df_cleaned.shape"
   ]
  },
  {
   "cell_type": "code",
   "execution_count": null,
   "metadata": {
    "ExecuteTime": {
     "end_time": "2022-04-19T18:35:10.460139Z",
     "start_time": "2022-04-19T18:35:10.445154Z"
    }
   },
   "outputs": [],
   "source": [
    "## Inspecting datatype and remaining data\n",
    "df_cleaned.info()"
   ]
  },
  {
   "cell_type": "markdown",
   "metadata": {},
   "source": [
    "---\n",
    "\n",
    "**Review Current Status**\n",
    "\n",
    "At this point, I completed the following:\n",
    "\n",
    "- [X] Imported specified report data\n",
    "- [X] Removed blank columns and rows\n",
    "- [X] Removed any rows missing values\n",
    "\n",
    "At this point, I condensed the report and removed any extra spacing.\n",
    "\n",
    "**Now I need to decide which rows contain relevant data to keep and which rows contain extra data that we don't use.**\n",
    "\n",
    "---\n",
    "\n",
    "**Keeping vs. Dropping**\n",
    "\n",
    "My original intention for this notebook/eventual script was to create a very minimalistic summary of the relevant day-to-day data, cutting out the extra stuff that we ignore.\n",
    "- This would provide me with the data specifically used during our night audit processes and remove any confusing extra details.\n",
    "\n",
    "However, I realized that approach would cause problems if/when we introduce new payment methods or would have any rare situations where relevant data would come through to the reports. \n",
    "- Missing such data could result in problems creating the daily reports or worse - obscure potential problems/irregularities.\n",
    "\n",
    "---\n",
    "\n",
    "**Final Decision:**\n",
    "\n",
    "I will focus my code on keeping all row labels while maintaining a focus on the most important day-to-day details.\n",
    "- To address the concern about irregularities, I will create warnings to highlight such data.\n",
    "\n",
    "---"
   ]
  },
  {
   "cell_type": "markdown",
   "metadata": {},
   "source": [
    "# 🔨 Workflow 1: Keep All Row Labels\n",
    "\n",
    "---\n",
    "\n",
    "To create my ideal report, **I will focus on specific rows that I use most often for my reporting.** \n",
    "\n",
    "I will split the remaining rows into two groups:\n",
    "1. Regularly-occurring (but irrelevant) data\n",
    "    - This includes subtotals and most of the rows at the end\n",
    "    - These rows are irrelevant for the day-to-day reports\n",
    "\n",
    "\n",
    "2. Infrequent but highly valuable data\n",
    "    - This group would also act as a catch-all for any new rows, such as when we create a new payment method.\n",
    "\n",
    "**I will sub-divide the dataframe into the three new dataframes, one for each group.**\n",
    "\n",
    "- Both the \"regular\" data and \"infrequent-but-valuable\" dataframes will be included on the first sheet of the final Excel workbook\n",
    "- The extra dataframe will be saved to the second page.\n",
    "\n",
    "---"
   ]
  },
  {
   "cell_type": "code",
   "execution_count": null,
   "metadata": {
    "ExecuteTime": {
     "end_time": "2022-04-19T18:35:10.492028Z",
     "start_time": "2022-04-19T18:35:10.461137Z"
    },
    "scrolled": true
   },
   "outputs": [],
   "source": [
    "## Create new DF\n",
    "\n",
    "df_all_cols = df_cleaned.copy().T\n",
    "df_all_cols"
   ]
  },
  {
   "cell_type": "code",
   "execution_count": null,
   "metadata": {
    "ExecuteTime": {
     "end_time": "2022-04-19T18:35:10.523942Z",
     "start_time": "2022-04-19T18:35:10.494070Z"
    }
   },
   "outputs": [],
   "source": [
    "## Re-labeling columns based on \"Label\" row\n",
    "df_all_cols.columns = df_all_cols.iloc[0]\n",
    "df_all_cols = df_all_cols.drop(index = 'Label')\n",
    "df_all_cols"
   ]
  },
  {
   "cell_type": "code",
   "execution_count": null,
   "metadata": {
    "ExecuteTime": {
     "end_time": "2022-04-19T18:35:10.553890Z",
     "start_time": "2022-04-19T18:35:10.524970Z"
    },
    "scrolled": true
   },
   "outputs": [],
   "source": [
    "## Specifying daily-use labels\n",
    "\n",
    "daily_rows = ['Food', 'Beverage', 'Other', 'Discount', 'MD Food 6%',\n",
    "              'MD Liq 9%', 'Tip collected', \"ALL A&G CHRG\", 'Room Charge',\n",
    "              'American Express', 'Cash', 'Discover Card', 'MasterCard', 'Visa']\n",
    "\n",
    "df_daily = df_all_cols[daily_rows]\n",
    "df_daily"
   ]
  },
  {
   "cell_type": "code",
   "execution_count": null,
   "metadata": {
    "ExecuteTime": {
     "end_time": "2022-04-19T18:35:11.428554Z",
     "start_time": "2022-04-19T18:35:10.555857Z"
    }
   },
   "outputs": [],
   "source": [
    "## Converting data to \"float\"\n",
    "for col in df_daily.columns:\n",
    "    df_daily.loc[:,col] = pd.to_numeric(df_daily.loc[:,col], downcast = 'float')\n",
    "    \n",
    "df_daily"
   ]
  },
  {
   "cell_type": "markdown",
   "metadata": {},
   "source": [
    "## Creating Summary for Posting"
   ]
  },
  {
   "cell_type": "markdown",
   "metadata": {},
   "source": [
    "---\n",
    "\n",
    "**My main goal is to create a simple, easy-to-use report that I can roll-out quickly and easily.** Ideally, the summary will be intuitive, clear, and allow for the night auditor to post the charges quickly and easily.\n",
    "\n",
    "I know that there are only a select few columns that we reference for posting charges, so I will start my summary by creating a small dataframe summarizing the usual charges.\n",
    "\n",
    "---"
   ]
  },
  {
   "cell_type": "code",
   "execution_count": null,
   "metadata": {
    "ExecuteTime": {
     "end_time": "2022-04-19T18:35:11.444511Z",
     "start_time": "2022-04-19T18:35:11.430520Z"
    },
    "scrolled": true
   },
   "outputs": [],
   "source": [
    "## Summarize food charges by outlet\n",
    "daily_food = df_daily['Food'] + df_daily['Other'] - df_daily['Discount']\n",
    "daily_food"
   ]
  },
  {
   "cell_type": "code",
   "execution_count": null,
   "metadata": {
    "ExecuteTime": {
     "end_time": "2022-04-19T18:35:11.460468Z",
     "start_time": "2022-04-19T18:35:11.447548Z"
    }
   },
   "outputs": [],
   "source": [
    "## Summarize tax charges by outlet\n",
    "daily_tax = df_daily['MD Food 6%']+df_daily['MD Liq 9%']\n",
    "daily_tax"
   ]
  },
  {
   "cell_type": "code",
   "execution_count": null,
   "metadata": {
    "ExecuteTime": {
     "end_time": "2022-04-19T18:35:11.476419Z",
     "start_time": "2022-04-19T18:35:11.465426Z"
    },
    "code_folding": []
   },
   "outputs": [],
   "source": [
    "## Summarize all charges by outlet\n",
    "summary = pd.concat([daily_food, df_daily['Beverage'], daily_tax, \n",
    "           df_daily['Tip collected']], axis=1)\n",
    "summary"
   ]
  },
  {
   "cell_type": "code",
   "execution_count": null,
   "metadata": {
    "ExecuteTime": {
     "end_time": "2022-04-19T18:35:11.492389Z",
     "start_time": "2022-04-19T18:35:11.480403Z"
    }
   },
   "outputs": [],
   "source": [
    "## Creating new labels\n",
    "\n",
    "col_labels = {0: \"Food\", 1: \"Tax\", 'Tip collected': 'Gratuity'}\n",
    "\n",
    "row_labels = {'Bar': \"Lobby Bar\", \"Dining Room\": 'Rain 903', \n",
    "              'Room Service': 'In-Room Dining', 'Starbucks': 'Coffee Corner'}\n",
    "\n",
    "col_labels, row_labels"
   ]
  },
  {
   "cell_type": "code",
   "execution_count": null,
   "metadata": {
    "ExecuteTime": {
     "end_time": "2022-04-19T18:35:11.508341Z",
     "start_time": "2022-04-19T18:35:11.494349Z"
    },
    "code_folding": []
   },
   "outputs": [],
   "source": [
    "## Renaming columns\n",
    "summary = summary.rename(columns = col_labels, index = row_labels)\n",
    "summary"
   ]
  },
  {
   "cell_type": "code",
   "execution_count": null,
   "metadata": {
    "ExecuteTime": {
     "end_time": "2022-04-19T18:35:11.524268Z",
     "start_time": "2022-04-19T18:35:11.509339Z"
    }
   },
   "outputs": [],
   "source": [
    "## Rounding values - preventing long numbers\n",
    "summary = summary.applymap(lambda x: round(x, 2))\n",
    "summary"
   ]
  },
  {
   "cell_type": "code",
   "execution_count": null,
   "metadata": {
    "ExecuteTime": {
     "end_time": "2022-04-19T18:35:11.539228Z",
     "start_time": "2022-04-19T18:35:11.526267Z"
    }
   },
   "outputs": [],
   "source": [
    "# summary.to_excel('Test_Summary_Workbook.xlsx')"
   ]
  },
  {
   "cell_type": "markdown",
   "metadata": {},
   "source": [
    "# Summarizing the Summary"
   ]
  },
  {
   "cell_type": "markdown",
   "metadata": {},
   "source": [
    "---\n",
    "\n",
    "First summary working - need to expand\n",
    "\n",
    "* Repeat process per MOP\n",
    "    * A&G\n",
    "    * RC\n",
    "    * CA\n",
    "    * AX\n",
    "    * DI\n",
    "    * VI/MC\n",
    "    \n",
    "* Save results to different sheets?\n",
    "\n",
    "---"
   ]
  },
  {
   "cell_type": "markdown",
   "metadata": {},
   "source": [
    "# ƒ: Workflow"
   ]
  },
  {
   "cell_type": "markdown",
   "metadata": {},
   "source": [
    "---\n",
    "\n",
    " - [ ] Create workflow function to reuse w/ each report\n",
    " - [ ] Test specific MOP reports\n",
    " "
   ]
  },
  {
   "cell_type": "code",
   "execution_count": null,
   "metadata": {
    "ExecuteTime": {
     "end_time": "2022-04-19T18:35:11.555217Z",
     "start_time": "2022-04-19T18:35:11.540225Z"
    }
   },
   "outputs": [],
   "source": [
    "def cleaning_mops(file_path, new_file = None):\n",
    "\n",
    "    df = pd.read_excel(file_path, skiprows = 2)\n",
    "\n",
    "    df.columns = ['Label', *df.columns[:-1]]\n",
    "\n",
    "    col_labels = ['Label', 'Bar', 'Dining Room', 'Room Service', 'Starbucks']\n",
    "    drop_cols = []\n",
    "\n",
    "    for col in df.columns:\n",
    "        if col not in col_labels:\n",
    "            drop_cols.append(col)\n",
    "\n",
    "    df = df.drop(columns = drop_cols)\n",
    "\n",
    "    df_cleaned = df[df.isna().sum(axis=1) == 0]\n",
    "    df_cleaned = df_cleaned[~df_cleaned.loc[:, \"Label\"].isin([' '])]\n",
    "    df_cleaned = df_cleaned.reset_index(drop=True)\n",
    "\n",
    "    df_all_cols = df_cleaned.T\n",
    "\n",
    "    df_all_cols.columns = df_all_cols.iloc[0]\n",
    "    df_all_cols = df_all_cols.drop(index = 'Label')\n",
    "\n",
    "    daily_rows = ['Food', 'Beverage', 'Other', 'Discount', 'MD Food 6%',\n",
    "              'MD Liq 9%', 'Tip collected', \"ALL A&G CHRG\", 'Room Charge',\n",
    "              'American Express', 'Cash', 'Discover Card', 'MasterCard', 'Visa']\n",
    "\n",
    "    df_daily = df_all_cols.loc[:,daily_rows]\n",
    "\n",
    "    for col in df_daily.columns:\n",
    "        df_daily.loc[:,col] = pd.to_numeric(df_daily.loc[:,col], downcast = 'float')\n",
    "\n",
    "    daily_food = df_daily.loc[:,'Food'] + df_daily.loc[:,'Other'] - df_daily.loc[:,'Discount']\n",
    "\n",
    "    daily_tax = df_daily.loc[:,'MD Food 6%'] + df_daily.loc[:,'MD Liq 9%']\n",
    "\n",
    "    summary = pd.concat([daily_food, df_daily.loc[:,'Beverage'], daily_tax, \n",
    "           df_daily.loc[:,'Tip collected']], axis=1)\n",
    "    \n",
    "    col_labels = {0: \"Food\", 1: \"Tax\", 'Tip collected': 'Gratuity'}\n",
    "\n",
    "    row_labels = {'Bar': \"Lobby Bar\", \"Dining Room\": 'Rain 903', \n",
    "              'Room Service': 'In-Room Dining', 'Starbucks': 'Coffee Corner'}\n",
    "\n",
    "    summary = summary.rename(columns = col_labels, index = row_labels)\n",
    "\n",
    "    summary = summary.applymap(lambda x: round(x, 2))\n",
    "\n",
    "#     summary.to_excel(new_file)\n",
    "    return summary"
   ]
  },
  {
   "cell_type": "code",
   "execution_count": null,
   "metadata": {
    "ExecuteTime": {
     "end_time": "2022-04-19T18:35:11.586104Z",
     "start_time": "2022-04-19T18:35:11.557180Z"
    }
   },
   "outputs": [],
   "source": [
    "test_df = cleaning_mops(file_path = './data/02_25_2022_mop_det_VIMC.xls')\n",
    "test_df"
   ]
  },
  {
   "cell_type": "code",
   "execution_count": null,
   "metadata": {
    "ExecuteTime": {
     "end_time": "2022-04-19T18:35:11.601072Z",
     "start_time": "2022-04-19T18:35:11.588099Z"
    },
    "scrolled": false
   },
   "outputs": [],
   "source": [
    "test_df['MoP'] ='VI/MC'\n",
    "test_df"
   ]
  },
  {
   "cell_type": "code",
   "execution_count": null,
   "metadata": {
    "ExecuteTime": {
     "end_time": "2022-04-19T18:35:11.617051Z",
     "start_time": "2022-04-19T18:35:11.602068Z"
    },
    "scrolled": true
   },
   "outputs": [],
   "source": [
    "test_df = test_df.reset_index()\n",
    "test_df = test_df.set_index(['MoP', 'index'])\n",
    "test_df"
   ]
  },
  {
   "cell_type": "code",
   "execution_count": null,
   "metadata": {
    "ExecuteTime": {
     "end_time": "2022-04-19T18:35:11.648964Z",
     "start_time": "2022-04-19T18:35:11.619015Z"
    }
   },
   "outputs": [],
   "source": [
    "mop = 'AG'\n",
    "file_path = f'./data/02_25_2022_mop_det_{mop}.xls'\n",
    "results = cleaning_mops(file_path)\n",
    "results.loc[:,'MoP'] = mop.upper()\n",
    "\n",
    "results"
   ]
  },
  {
   "cell_type": "code",
   "execution_count": null,
   "metadata": {
    "ExecuteTime": {
     "end_time": "2022-04-19T18:35:11.773632Z",
     "start_time": "2022-04-19T18:35:11.649932Z"
    }
   },
   "outputs": [],
   "source": [
    "list_mops = ['ag', 'rc', 'ax', 'ca', 'di', 'vimc']\n",
    "\n",
    "results = pd.DataFrame()\n",
    "\n",
    "for mop in list_mops:\n",
    "    file_path = f'./data/02_25_2022_mop_det_{mop}.xls'\n",
    "    results = cleaning_mops(file_path)\n",
    "    results.loc[:,'MoP'] = mop.upper()"
   ]
  },
  {
   "cell_type": "code",
   "execution_count": null,
   "metadata": {
    "ExecuteTime": {
     "end_time": "2022-04-19T18:35:11.789559Z",
     "start_time": "2022-04-19T18:35:11.774630Z"
    }
   },
   "outputs": [],
   "source": [
    "results.keys()"
   ]
  },
  {
   "cell_type": "code",
   "execution_count": null,
   "metadata": {
    "ExecuteTime": {
     "end_time": "2022-04-19T18:35:11.805548Z",
     "start_time": "2022-04-19T18:35:11.791553Z"
    }
   },
   "outputs": [],
   "source": [
    "results"
   ]
  },
  {
   "cell_type": "markdown",
   "metadata": {},
   "source": [
    "# So Far..."
   ]
  },
  {
   "cell_type": "markdown",
   "metadata": {},
   "source": [
    "---\n",
    "\n",
    "**√: MVP**\n",
    "\n",
    "- [x] Created function to clean, organize data from summary reports\n",
    " - [x] Tested results by looping through list of files\n",
    "\n",
    "\n",
    "**TD: MVP**\n",
    "\n",
    " - [ ] Add additional column identifying MOP\n",
    " - [ ] Create multi-index w/ MOP, PC\n",
    " - [ ] Concat DFs\n",
    " - [ ] Save results to XL\n",
    " - [ ] Convert to script\n",
    " \n",
    " \n",
    "**TD: AAB**\n",
    "\n",
    " - [ ] Create filters to include extra details\n",
    "     * *Ex: Discounts, charges, any new MOPs, payments other than listed MOPs*\n",
    "\n",
    "---"
   ]
  },
  {
   "cell_type": "markdown",
   "metadata": {},
   "source": [
    "# 3.15.22"
   ]
  },
  {
   "cell_type": "markdown",
   "metadata": {},
   "source": [
    "Goal: MVP up & running\n",
    "\n",
    " - [ ] Check status\n",
    " - [ ] Add/create multi-index for MOP\n",
    " - [ ] Create SINGLE results XL"
   ]
  },
  {
   "cell_type": "code",
   "execution_count": null,
   "metadata": {
    "ExecuteTime": {
     "end_time": "2022-04-19T18:35:11.821503Z",
     "start_time": "2022-04-19T18:35:11.806524Z"
    },
    "code_folding": []
   },
   "outputs": [],
   "source": [
    "def cleaning_mops_test(file_path, mop_name = None, new_file_name = None):\n",
    "    \n",
    "    ## Read file\n",
    "    df = pd.read_excel(file_path, skiprows = 2)\n",
    "    \n",
    "    ## Shift label names one to the right and drop extra column\n",
    "    df.columns = ['Label', *df.columns[:-1]]\n",
    "    \n",
    "    ## Specify features to keep\n",
    "    col_labels = ['Label', 'Bar', 'Dining Room', 'Room Service', 'Starbucks']\n",
    "    drop_cols = []\n",
    "    \n",
    "    ## Create list of column names to drop\n",
    "    for col in df.columns:\n",
    "        if col not in col_labels:\n",
    "            drop_cols.append(col)\n",
    "    \n",
    "    ## Drop columns\n",
    "    df = df.drop(columns = drop_cols)\n",
    "    \n",
    "    ## Drop rows with NaNs and/or blank labels\n",
    "    df_cleaned = df[df.isna().sum(axis=1) == 0]\n",
    "    df_cleaned = df_cleaned[~df_cleaned.loc[:, \"Label\"].isin([' '])]\n",
    "    df_cleaned = df_cleaned.reset_index(drop=True)\n",
    "    \n",
    "    ## Transpose for easy reading\n",
    "    df_all_cols = df_cleaned.T\n",
    "    \n",
    "    ## Relabel based on values in first row\n",
    "    df_all_cols.columns = df_all_cols.iloc[0]\n",
    "    df_all_cols = df_all_cols.drop(index = 'Label')\n",
    "\n",
    "    daily_rows = ['Food', 'Beverage', 'Other', 'Discount', 'MD Food 6%',\n",
    "              'MD Liq 9%', 'Tip collected', \"ALL A&G CHRG\", 'Room Charge',\n",
    "              'American Express', 'Cash', 'Discover Card', 'MasterCard', 'Visa']\n",
    "    \n",
    "    ## Slicing out specific labels of interest\n",
    "    df_daily = df_all_cols.loc[:, daily_rows]\n",
    "    \n",
    "    ## Recast datatypes\n",
    "    for col in df_daily.columns:\n",
    "        df_daily.loc[:,col] = pd.to_numeric(df_daily.loc[:,col], downcast = 'float')\n",
    "\n",
    "    ## Generate totals for each outlet\n",
    "    daily_food = df_daily['Food'] + df_daily['Other'] - df_daily['Discount']\n",
    "\n",
    "    daily_tax = df_daily['MD Food 6%'] + df_daily['MD Liq 9%']\n",
    "\n",
    "    summary = pd.concat([daily_food, df_daily.loc[:,'Beverage'], daily_tax,\n",
    "                         df_daily.loc[:,'Tip collected']], axis=1)\n",
    "    \n",
    "    ## Relabel columns/rows\n",
    "    col_labels = {0: \"Food\", 1: \"Tax\", 'Tip collected': 'Gratuity'}\n",
    "    row_labels = {'Bar': \"Lobby Bar\", \"Dining Room\": 'Rain 903', \n",
    "              'Room Service': 'In-Room Dining', 'Starbucks': 'Coffee Corner'}\n",
    "        \n",
    "    summary = summary.rename(columns = col_labels, index = row_labels)\n",
    "    \n",
    "    ## Round to prevent unnecessary decimals\n",
    "    summary = summary.applymap(lambda x: round(x, 2))\n",
    "    \n",
    "    ## Generate new index to group MOPs\n",
    "    if mop_name != None:\n",
    "        summary.loc[:,'Payment'] = mop_name.upper()\n",
    "        summary = summary.reset_index()\n",
    "        summary = summary.rename(columns = {'index':'Outlet'})\n",
    "        summary = summary.set_index(['Payment', 'Outlet'])\n",
    "        \n",
    "#     summary.to_excel(new_file)\n",
    "    return summary"
   ]
  },
  {
   "cell_type": "code",
   "execution_count": null,
   "metadata": {
    "ExecuteTime": {
     "end_time": "2022-04-19T18:35:11.868379Z",
     "start_time": "2022-04-19T18:35:11.822504Z"
    }
   },
   "outputs": [],
   "source": [
    "## For a specified MOP, pull specific file and run cleaning function\n",
    "\n",
    "mop = 'vimc'\n",
    "\n",
    "file_path = f'./data/02_25_2022_mop_det_{mop}.xls'\n",
    "\n",
    "cleaning_mops_test(file_path=file_path, mop_name=mop)"
   ]
  },
  {
   "cell_type": "code",
   "execution_count": null,
   "metadata": {
    "ExecuteTime": {
     "end_time": "2022-04-19T18:35:12.012004Z",
     "start_time": "2022-04-19T18:35:11.869387Z"
    }
   },
   "outputs": [],
   "source": [
    "## Run all MOPs through function\n",
    "\n",
    "list_mops = ['ag', 'rc', 'ax', 'ca', 'di', 'vimc']\n",
    "\n",
    "new_results = []\n",
    "\n",
    "for mop in list_mops:\n",
    "    file_path = f'./data/02_25_2022_mop_det_{mop}.xls'\n",
    "    new_results.append(cleaning_mops_test(file_path=file_path, mop_name=mop))\n",
    "    \n",
    "new_results_df = pd.concat(new_results)\n",
    "new_results_df"
   ]
  },
  {
   "cell_type": "code",
   "execution_count": null,
   "metadata": {
    "ExecuteTime": {
     "end_time": "2022-04-19T18:35:12.027952Z",
     "start_time": "2022-04-19T18:35:12.012991Z"
    }
   },
   "outputs": [],
   "source": [
    "# new_results_df.to_excel('./data/02_25_2022_summary.xlsx')"
   ]
  },
  {
   "cell_type": "markdown",
   "metadata": {},
   "source": [
    "# Generating Alerts for RC: Dupes and A&G"
   ]
  },
  {
   "cell_type": "markdown",
   "metadata": {},
   "source": [
    "* Two possible errors for Room Charge settlements:\n",
    "    * Duplicate checks\n",
    "    * Charged to A&G\n",
    "* Need report to check guest names to ID and warn of these postings"
   ]
  },
  {
   "cell_type": "code",
   "execution_count": null,
   "metadata": {
    "ExecuteTime": {
     "end_time": "2022-04-19T18:35:12.218442Z",
     "start_time": "2022-04-19T18:35:12.030955Z"
    }
   },
   "outputs": [],
   "source": [
    "ra_rc_df = pd.read_excel(io = './data/april_2022_rc_receipts.xls', header = None, skiprows = 1,\n",
    "                        names = ['Table #', 'Check #', 'Server #', 'Server Name', 'Cashier #',\n",
    "                                 'Cashier Name','MoP', 'Profit Center', 'Blank1', 'Blank2',\n",
    "                                 'Tip', 'Total Receipt', 'Guest Name/Room', 'Date', 'Time'])\n",
    "ra_rc_df"
   ]
  },
  {
   "cell_type": "code",
   "execution_count": null,
   "metadata": {
    "ExecuteTime": {
     "end_time": "2022-04-19T18:35:12.363027Z",
     "start_time": "2022-04-19T18:35:12.220415Z"
    }
   },
   "outputs": [],
   "source": [
    "## Dropping total rows at end of report\n",
    "ra_rc_df = ra_rc_df[:-3]\n",
    "ra_rc_df"
   ]
  },
  {
   "cell_type": "code",
   "execution_count": null,
   "metadata": {
    "ExecuteTime": {
     "end_time": "2022-04-19T18:35:12.393973Z",
     "start_time": "2022-04-19T18:35:12.370007Z"
    }
   },
   "outputs": [],
   "source": [
    "bool_idx = ra_rc_df.loc[:,'Guest Name/Room'].str.startswith(('A&G', 'Dup'))\n",
    "bool_idx"
   ]
  },
  {
   "cell_type": "code",
   "execution_count": null,
   "metadata": {
    "ExecuteTime": {
     "end_time": "2022-04-19T18:35:12.409911Z",
     "start_time": "2022-04-19T18:35:12.395938Z"
    }
   },
   "outputs": [],
   "source": [
    "## Slicing out checks that meet the criteria\n",
    "ra_rc_df[bool_idx]"
   ]
  },
  {
   "cell_type": "code",
   "execution_count": null,
   "metadata": {
    "ExecuteTime": {
     "end_time": "2022-04-19T18:35:12.424892Z",
     "start_time": "2022-04-19T18:35:12.410928Z"
    }
   },
   "outputs": [],
   "source": [
    "chk_num = list(ra_rc_df[bool_idx]['Check #'].values)\n",
    "chk_num"
   ]
  },
  {
   "cell_type": "markdown",
   "metadata": {},
   "source": [
    "## Using Python Logger"
   ]
  },
  {
   "cell_type": "markdown",
   "metadata": {},
   "source": [
    "References:\n",
    "* [Real Python](https://realpython.com/python-logging/)\n",
    "* [Python Docs](https://docs.python.org/3/howto/logging.html#logging-basic-tutorial)"
   ]
  },
  {
   "cell_type": "code",
   "execution_count": null,
   "metadata": {
    "ExecuteTime": {
     "end_time": "2022-04-19T18:35:12.440851Z",
     "start_time": "2022-04-19T18:35:12.425888Z"
    },
    "scrolled": true
   },
   "outputs": [],
   "source": [
    "print(f'Review check numbers {chk_num} for duplicate check/direct A&G postings!')"
   ]
  },
  {
   "cell_type": "code",
   "execution_count": null,
   "metadata": {
    "ExecuteTime": {
     "end_time": "2022-04-19T18:35:12.456804Z",
     "start_time": "2022-04-19T18:35:12.442812Z"
    }
   },
   "outputs": [],
   "source": [
    "if len(chk_num) >0:\n",
    "    logger.warning(f'Review checks for possible errors: {chk_num}')"
   ]
  },
  {
   "cell_type": "markdown",
   "metadata": {},
   "source": [
    "# Checkpoint - 4.19.22"
   ]
  },
  {
   "cell_type": "markdown",
   "metadata": {},
   "source": [
    "---\n",
    "\n",
    "**Current Status:**\n",
    "\n",
    "* Read Digital Dining report data *only for Excel files*\n",
    "    * AAB: read DBF files directly\n",
    "    * AAB: review sales type for discounts, subtract from proper sales type\n",
    "        * Currently subtracted from food generally\n",
    "* Clean the data to generate summaries about food/bev/tax/gratuity amounts\n",
    "    * MVP: confirm process works for all MOPs\n",
    "* Log warnings about any \"Duplicate Check\" or direct A&G postings\n",
    "\n",
    "---\n",
    "\n",
    "**Next Steps:**\n",
    "\n",
    "1. Test on most recent files\n",
    "2. Artificially generate errors (then cancel before NA)\n",
    "3. Condense into script to run on server\n",
    "4. Test script\n",
    "5. Schedule script to run daily\n",
    "\n",
    "---"
   ]
  },
  {
   "cell_type": "markdown",
   "metadata": {},
   "source": [
    "# Final Script"
   ]
  },
  {
   "cell_type": "code",
   "execution_count": null,
   "metadata": {
    "ExecuteTime": {
     "end_time": "2022-04-19T18:35:12.472765Z",
     "start_time": "2022-04-19T18:35:12.457802Z"
    }
   },
   "outputs": [],
   "source": [
    "def workflow(data_filepath, mop_name = None):#, summary_file_name, receipts_filepath, log_filepath):\n",
    "    \"\"\"Processes entire workflow to generate summary data for Digital Dining reports.\n",
    "\n",
    "    Reads files; cleans; summarizes by MOP; generates log files to confirm any issues.\n",
    "\n",
    "    Args:\n",
    "        data_filepath (str): Path to data file (.xls/.xlsx files only)\n",
    "        summary_file_name (str): Name for results file\n",
    "        receipts_filepath (str): Receipts Audit report file\n",
    "        log_filepath (str): Name for log file.\n",
    "    \"\"\"\n",
    "\n",
    "#     logging.basicConfig(level=logging.INFO, format='%(asctime)s - %(message)s', \n",
    "#                         datefmt='%d-%b-%y %H:%M:%S',filename=log_filepath,\n",
    "#                         encoding='utf-8',  filemode='a')\n",
    "\n",
    "#     # Create logger and set level\n",
    "#     logger = logging.getLogger('Report_Log')\n",
    "#     logger.setLevel(logging.INFO)\n",
    "\n",
    "#     # Create log file handler\n",
    "#     fh = logging.FileHandler(log_filepath)\n",
    "#     fh.setLevel(logging.INFO)\n",
    "\n",
    "#     formatter = logging.Formatter('%(asctime)s - %(name)s - %(levelname)s - %(message)s')\n",
    "#     fh.setFormatter(formatter)\n",
    "\n",
    "#     logger.addHandler(fh)\n",
    "\n",
    "\n",
    "\n",
    "    ## Read all columns from file (incl. empty columns)\n",
    "    df = pd.read_excel(data_filepath,  skiprows = 2)\n",
    "\n",
    "    ## Shifting label names one to the right and drop extra column\n",
    "    df.columns = ['Label', *df.columns[:-1]]\n",
    "\n",
    "    ## Creating list of columns to keep/drop\n",
    "    col_labels = ['Label', 'Bar', 'Dining Room', 'Room Service', 'Starbucks']\n",
    "    drop_cols = []\n",
    "\n",
    "    for col in df.columns:\n",
    "        if col not in col_labels:\n",
    "            drop_cols.append(col)\n",
    "\n",
    "    ## Dropping columns not representing an outlet\n",
    "    df = df.drop(columns = drop_cols)\n",
    "\n",
    "    df_cleaned = df[df.isna().sum(axis=1) == 0]\n",
    "    df_cleaned = df_cleaned[~df_cleaned.loc[:, \"Label\"].isin([' '])]\n",
    "    df_cleaned = df_cleaned.reset_index(drop=True)\n",
    "\n",
    "    df_all_cols = df_cleaned.copy().T\n",
    "    df_all_cols\n",
    "\n",
    "    ## Re-labeling columns based on \"Label\" row\n",
    "    df_all_cols.columns = df_all_cols.iloc[0]\n",
    "    df_all_cols = df_all_cols.drop(index = 'Label')\n",
    "\n",
    "    daily_rows = ['Food', 'Beverage', 'Other', 'Discount', 'MD Food 6%',\n",
    "                'MD Liq 9%', 'Tip collected', \"ALL A&G CHRG\", 'Room Charge',\n",
    "                'American Express', 'Cash', 'Discover Card', 'MasterCard', 'Visa']\n",
    "\n",
    "    df_daily = df_all_cols[daily_rows]\n",
    "\n",
    "    ## Converting data to \"float\"\n",
    "#     for col in df_daily.columns:\n",
    "#         df_daily.loc[:,col] = pd.to_numeric(df_daily.loc[:,col], downcast = 'float')\n",
    "    df_daily = df_daily.applymap(lambda x: float(x))\n",
    "\n",
    "    ## Summarize food charges by outlet\n",
    "    daily_food = df_daily['Food'] + df_daily['Other'] - df_daily['Discount']\n",
    "\n",
    "    ## Summarize tax charges by outlet\n",
    "    daily_tax = df_daily['MD Food 6%']+df_daily['MD Liq 9%']\n",
    "\n",
    "    ## Summarize all charges by outlet\n",
    "    summary = pd.concat([daily_food, df_daily['Beverage'], daily_tax, \n",
    "            df_daily['Tip collected']], axis=1)\n",
    "\n",
    "    ## Creating new labels\n",
    "    col_labels = {0: \"Food\", 1: \"Tax\", 'Tip collected': 'Gratuity'}\n",
    "    row_labels = {'Bar': \"Lobby Bar\", \"Dining Room\": 'Rain 903', \n",
    "                'Room Service': 'In-Room Dining', 'Starbucks': 'Coffee Corner'}\n",
    "\n",
    "    ## Renaming columns\n",
    "    summary = summary.rename(columns = col_labels, index = row_labels)\n",
    "\n",
    "    ## Rounding values - preventing long numbers\n",
    "    summary = summary.applymap(lambda x: round(x, 2))\n",
    "    \n",
    "    ## Generate new index to group MOPs\n",
    "    if mop_name != None:\n",
    "        summary.loc[:,'Payment'] = mop_name.upper()\n",
    "        summary = summary.reset_index()\n",
    "        summary = summary.rename(columns = {'index':'Outlet'})\n",
    "        summary = summary.set_index(['Payment', 'Outlet'])\n",
    "\n",
    "#     # summary.to_excel(summary_file_name, engine = 'openpyxl')\n",
    "\n",
    "#     ra_rc_df = pd.read_excel(io = receipts_filepath, header = None, skiprows = 1,\n",
    "#                         names = ['Table #', 'Check #', 'Server #', 'Server Name', 'Cashier #',\n",
    "#                                 'Cashier Name','MoP', 'Profit Center', 'Blank1', 'Blank2',\n",
    "#                                 'Tip', 'Total Receipt', 'Guest Name/Room', 'Date', 'Time'])\n",
    "    \n",
    "#     ## Dropping total rows at end of report\n",
    "#     ra_rc_df = ra_rc_df[:-3]\n",
    "\n",
    "#     bool_idx = ra_rc_df.loc[:,'Guest Name/Room'].str.startswith(('A&G', 'Dup'))\n",
    "\n",
    "#     chk_num = list(ra_rc_df[bool_idx]['Check #'].values)\n",
    "\n",
    "#     if len(chk_num) >0:\n",
    "#         logger.warning(f'Review checks for possible errors: {chk_num}')\n",
    "#     else:\n",
    "#         logger.info(f'There are no checks to review.')\n",
    "\n",
    "    return summary"
   ]
  },
  {
   "cell_type": "code",
   "execution_count": null,
   "metadata": {
    "ExecuteTime": {
     "end_time": "2022-04-19T18:35:12.504676Z",
     "start_time": "2022-04-19T18:35:12.473761Z"
    },
    "scrolled": true
   },
   "outputs": [],
   "source": [
    "workflow(data_filepath = './data/02_25_2022_pc.xls')"
   ]
  },
  {
   "cell_type": "code",
   "execution_count": null,
   "metadata": {
    "ExecuteTime": {
     "end_time": "2022-04-19T18:35:12.520634Z",
     "start_time": "2022-04-19T18:35:12.506642Z"
    }
   },
   "outputs": [],
   "source": [
    "def loop_workflow():#, summary_file_name, receipts_filepath, log_filepath):\n",
    "\n",
    "    \n",
    "    list_mops = ['ag', 'rc', 'ax', 'ca', 'di', 'vimc']\n",
    "    new_results = []\n",
    "    for mop in list_mops:\n",
    "        data_filepath = f'./data/02_25_2022_mop_det_{mop}.xls'\n",
    "        summary_file_name = f'results_for_{mop}.xlsx'\n",
    "        new_results.append(workflow(data_filepath, mop_name = mop))#, summary_file_name, receipts_filepath, log_filepath))\n",
    "        \n",
    "    new_results_df = pd.concat(new_results)\n",
    "\n",
    "    return new_results_df"
   ]
  },
  {
   "cell_type": "code",
   "execution_count": null,
   "metadata": {
    "ExecuteTime": {
     "end_time": "2022-04-19T18:35:12.647296Z",
     "start_time": "2022-04-19T18:35:12.522599Z"
    }
   },
   "outputs": [],
   "source": [
    "loop_workflow()"
   ]
  },
  {
   "cell_type": "code",
   "execution_count": null,
   "metadata": {},
   "outputs": [],
   "source": []
  },
  {
   "cell_type": "code",
   "execution_count": null,
   "metadata": {
    "ExecuteTime": {
     "end_time": "2022-04-19T18:35:12.869702Z",
     "start_time": "2022-04-19T18:35:12.648264Z"
    }
   },
   "outputs": [],
   "source": [
    "from functions import script\n",
    "# from functions.loop_script import loop_workflow"
   ]
  },
  {
   "cell_type": "code",
   "execution_count": null,
   "metadata": {},
   "outputs": [],
   "source": []
  },
  {
   "cell_type": "code",
   "execution_count": null,
   "metadata": {
    "ExecuteTime": {
     "end_time": "2022-04-19T18:35:12.885649Z",
     "start_time": "2022-04-19T18:35:12.871667Z"
    }
   },
   "outputs": [],
   "source": [
    "workflow(data_filepath ='./data/02_25_2022_mop_det_vimc.xls', summary_file_name = 'test_workflow_results.xlsx',\n",
    "         receipts_filepath ='./data/april_2022_rc_receipts.xls', log_filepath = 'test_workflow_log.log')"
   ]
  },
  {
   "cell_type": "code",
   "execution_count": null,
   "metadata": {
    "ExecuteTime": {
     "end_time": "2022-04-19T18:35:12.887623Z",
     "start_time": "2022-04-19T18:35:07.646Z"
    }
   },
   "outputs": [],
   "source": [
    "# def loop_workflow(data_filepath, summary_file_name, receipts_filepath, log_filepath):\n",
    "\n",
    "    \n",
    "#     list_mops = ['ag', 'rc', 'ax', 'ca', 'di', 'vimc']\n",
    "#     new_results = []\n",
    "#     for mop in list_mops:\n",
    "#         file_path = f'./data/02_25_2022_mop_det_{mop}.xls'\n",
    "#         summary_file_name = f'results_for_{mop}.xlsx'\n",
    "#         new_results.append(workflow(data_filepath, summary_file_name, receipts_filepath, log_filepath))\n",
    "        \n",
    "#     new_results_df = pd.concat(new_results)\n",
    "\n",
    "#     return new_results_df"
   ]
  },
  {
   "cell_type": "code",
   "execution_count": null,
   "metadata": {
    "ExecuteTime": {
     "end_time": "2022-04-19T18:35:12.888621Z",
     "start_time": "2022-04-19T18:35:07.649Z"
    }
   },
   "outputs": [],
   "source": [
    "loop_workflow(summary_file_name = 'test_workflow_results.xlsx',\n",
    "              receipts_filepath ='./data/april_2022_rc_receipts.xls',\n",
    "              log_filepath = 'test_workflow_log.log')"
   ]
  },
  {
   "cell_type": "code",
   "execution_count": null,
   "metadata": {
    "ExecuteTime": {
     "end_time": "2022-04-19T18:35:12.889651Z",
     "start_time": "2022-04-19T18:35:07.652Z"
    },
    "scrolled": true
   },
   "outputs": [],
   "source": [
    "# receipts_filepath ='./data/april_2022_rc_receipts.xls'\n",
    "# log_filepath = 'test_workflow_log.log'\n",
    "\n",
    "# list_mops = ['ag', 'rc', 'ax', 'ca', 'di', 'vimc']\n",
    "\n",
    "# new_results = []\n",
    "\n",
    "# for mop in list_mops:\n",
    "#     file_path = f'./data/02_25_2022_mop_det_{mop}.xls'\n",
    "#     summary_file_name = f'results_for_{mop}.xlsx'\n",
    "#     new_results.append(workflow(data_filepath = file_path, summary_file_name = summary_file_name,\n",
    "#                                 receipts_filepath = receipts_filepath, log_filepath = log_filepath))\n",
    "\n",
    "# new_results_df = pd.concat(new_results)"
   ]
  },
  {
   "cell_type": "markdown",
   "metadata": {},
   "source": [
    "# ⚠️ Old Code - Raises Error"
   ]
  },
  {
   "cell_type": "code",
   "execution_count": null,
   "metadata": {
    "ExecuteTime": {
     "end_time": "2022-04-19T15:23:30.535051Z",
     "start_time": "2022-04-19T15:23:30.520099Z"
    }
   },
   "outputs": [],
   "source": [
    "raise Exception (\"End of Development - Resume here\")"
   ]
  },
  {
   "cell_type": "code",
   "execution_count": null,
   "metadata": {
    "ExecuteTime": {
     "end_time": "2022-04-19T15:23:30.537045Z",
     "start_time": "2022-04-19T15:23:29.206Z"
    },
    "scrolled": true
   },
   "outputs": [],
   "source": [
    "## Review datatypes\n",
    "\n",
    "df_no_drp.dtypes"
   ]
  },
  {
   "cell_type": "code",
   "execution_count": null,
   "metadata": {
    "ExecuteTime": {
     "end_time": "2022-04-19T15:23:30.538013Z",
     "start_time": "2022-04-19T15:23:29.208Z"
    },
    "scrolled": true
   },
   "outputs": [],
   "source": [
    "## Recast columns to \"float\" datatype & review\n",
    "\n",
    "for col in df_no_drp.columns:\n",
    "    df_no_drp[col] = pd.to_numeric(df_no_drp[col], downcast = 'float')\n",
    "\n",
    "print(df_no_drp.dtypes)\n",
    "\n",
    "display(df_no_drp)"
   ]
  },
  {
   "cell_type": "code",
   "execution_count": null,
   "metadata": {
    "ExecuteTime": {
     "end_time": "2022-04-19T15:23:30.539010Z",
     "start_time": "2022-04-19T15:23:29.210Z"
    },
    "scrolled": true
   },
   "outputs": [],
   "source": [
    "## Inspect results\n",
    "\n",
    "df_no_drp[df_no_drp.columns[:-1]].T.describe().T"
   ]
  },
  {
   "cell_type": "code",
   "execution_count": null,
   "metadata": {
    "ExecuteTime": {
     "end_time": "2022-04-19T15:23:30.540007Z",
     "start_time": "2022-04-19T15:23:29.211Z"
    }
   },
   "outputs": [],
   "source": [
    "# ## Create new total column\n",
    "\n",
    "# df_no_drp['Total'] = df_no_drp.sum(axis=1)\n",
    "# df_no_drp"
   ]
  },
  {
   "cell_type": "code",
   "execution_count": null,
   "metadata": {
    "ExecuteTime": {
     "end_time": "2022-04-19T15:23:30.541007Z",
     "start_time": "2022-04-19T15:23:29.213Z"
    },
    "scrolled": false
   },
   "outputs": [],
   "source": [
    "## Filter rows without any activity\n",
    "\n",
    "## CURRENTLY UNUSED - FILTERING BELOW ##\n",
    "\n",
    "# df_no_zero = df_no_drp[df_no_drp['Total'] > 0]\n",
    "# df_no_zero"
   ]
  },
  {
   "cell_type": "code",
   "execution_count": null,
   "metadata": {
    "ExecuteTime": {
     "end_time": "2022-04-19T15:23:30.542013Z",
     "start_time": "2022-04-19T15:23:29.215Z"
    }
   },
   "outputs": [],
   "source": [
    "## Identify all unique labels from total data\n",
    "\n",
    "df_no_drp.index.unique()"
   ]
  },
  {
   "cell_type": "code",
   "execution_count": null,
   "metadata": {
    "ExecuteTime": {
     "end_time": "2022-04-19T15:23:30.542999Z",
     "start_time": "2022-04-19T15:23:29.217Z"
    }
   },
   "outputs": [],
   "source": [
    "## Create list of frequently-used labels\n",
    "\n",
    "freq_cats = ['Food', 'Beverage', 'Other','Discount', 'Charge','MD Food 6%',\n",
    "             'MD Liq 9%','Tip collected','ALL A&G CHRG', 'Room Charge',\n",
    "             'American Express', 'Cash', 'Discover Card', 'MasterCard',\n",
    "             'Visa']\n",
    "freq_cats"
   ]
  },
  {
   "cell_type": "code",
   "execution_count": null,
   "metadata": {
    "ExecuteTime": {
     "end_time": "2022-04-19T15:23:30.543997Z",
     "start_time": "2022-04-19T15:23:29.220Z"
    }
   },
   "outputs": [],
   "source": [
    "## Filtering frequent labels from total data\n",
    "\n",
    "df_no_drp.loc[freq_cats, :]"
   ]
  },
  {
   "cell_type": "code",
   "execution_count": null,
   "metadata": {
    "ExecuteTime": {
     "end_time": "2022-04-19T15:23:30.544995Z",
     "start_time": "2022-04-19T15:23:29.223Z"
    }
   },
   "outputs": [],
   "source": [
    "## Creating lists to subset the data\n",
    "\n",
    "cats_profit_centers = df_no_drp.columns[:-1]\n",
    "cats_revenue = ['Food','Beverage','Other','Charge']\n",
    "cats_disc = ['Discount']\n",
    "cats_tax = ['MD Food 6%', 'MD Liq 9%']\n",
    "cats_tips = ['Tip collected']\n",
    "cats_mops = ['ALL A&G CHRG', 'American Express', 'Room Charge', 'Cash',\n",
    "             'Discover Card', 'MasterCard', 'Visa']"
   ]
  },
  {
   "cell_type": "code",
   "execution_count": null,
   "metadata": {
    "ExecuteTime": {
     "end_time": "2022-04-19T15:23:30.545992Z",
     "start_time": "2022-04-19T15:23:29.225Z"
    }
   },
   "outputs": [],
   "source": [
    "# bar_post_rev = {}\n",
    "\n",
    "# for cat in cats_revenue:\n",
    "# #     bar_post_rev[cat] = df_no_drp.loc[freq_cats,cat]\n",
    "#     print(df_no_drp.loc[cat, 'Lounge'])"
   ]
  },
  {
   "cell_type": "markdown",
   "metadata": {},
   "source": [
    "##   ✔️ FIXED ERROR ✔️"
   ]
  },
  {
   "cell_type": "markdown",
   "metadata": {},
   "source": [
    "* Need to switch to individual MOP reports\n",
    "    * PC report shows total sums\n",
    "    * Need to break down by MOP for proper details"
   ]
  },
  {
   "cell_type": "code",
   "execution_count": null,
   "metadata": {
    "ExecuteTime": {
     "end_time": "2022-04-19T15:23:30.547986Z",
     "start_time": "2022-04-19T15:23:29.227Z"
    }
   },
   "outputs": [],
   "source": [
    "## Pulling yesterday's files\n",
    "## Useful for processing during Daily reporting, but not same-day\n",
    "# yesterday = datetime.now() - timedelta(1)    \n",
    "\n",
    "# yd_str = datetime.strftime(yesterday, '%m_%d_%Y')\n",
    "# yd_str"
   ]
  },
  {
   "cell_type": "code",
   "execution_count": null,
   "metadata": {
    "ExecuteTime": {
     "end_time": "2022-04-19T15:23:30.548986Z",
     "start_time": "2022-04-19T15:23:29.229Z"
    }
   },
   "outputs": [],
   "source": [
    "## Pulling today's files\n",
    "\n",
    "today = datetime.now()   \n",
    "\n",
    "td_str = datetime.strftime(today, '%m_%d_%Y')\n",
    "td_str"
   ]
  },
  {
   "cell_type": "code",
   "execution_count": null,
   "metadata": {
    "ExecuteTime": {
     "end_time": "2022-04-19T15:23:30.550978Z",
     "start_time": "2022-04-19T15:23:29.231Z"
    }
   },
   "outputs": [],
   "source": [
    "list_mops = ['ag', 'ax', 'ca', 'di', 'rc', 'vimc']"
   ]
  },
  {
   "cell_type": "code",
   "execution_count": null,
   "metadata": {
    "ExecuteTime": {
     "end_time": "2022-04-19T15:23:30.551976Z",
     "start_time": "2022-04-19T15:23:29.233Z"
    }
   },
   "outputs": [],
   "source": [
    "def clean_data(file_path):\n",
    "    \"\"\"Work flow to import, clean, and eventually save the results as a new report.\n",
    "\n",
    "    Args:\n",
    "        file_path (string): file path for the original profit center report\n",
    "    \"\"\"    \n",
    "\n",
    "    ## Read specific columns from Excel file\n",
    "\n",
    "    df = pd.read_excel(file_path, skiprows = 2)\n",
    "\n",
    "    ## Reassign label names: shifting to the right and dropping extra\n",
    "\n",
    "    df.columns = ['Label', *df.columns[:-1]]\n",
    "    ## Creating list of columns to keep/drop\n",
    "\n",
    "    col_labels = ['Label', 'Bar', 'Dining Room', 'Room Service', 'Starbucks',\n",
    "                'Page Total']\n",
    "\n",
    "    drop_cols = []\n",
    "\n",
    "    for col in df.columns:\n",
    "        if col not in col_labels:\n",
    "            drop_cols.append(col)\n",
    "            \n",
    "    ## Dropping columns not representing an outlet\n",
    "\n",
    "    df = df.drop(columns = drop_cols)\n",
    "\n",
    "    ## Filter out those rows with missing/blank values\n",
    "\n",
    "    df_cleaned = df[df.isna().sum(axis=1) == 0]\n",
    "    df_cleaned = df_cleaned[~df_cleaned.loc[:, \"Label\"].isin([' '])]\n",
    "    df_cleaned = df_cleaned.reset_index(drop=True)\n",
    "\n",
    "    ## Create new DF to allow for later reuse\n",
    "\n",
    "    df_no_drp = df_cleaned.copy()\n",
    "\n",
    "    ## Relabel and reset index with correct labels\n",
    "\n",
    "    df_no_drp = df_no_drp.rename(df_no_drp[\"Label\"])\n",
    "    df_no_drp = df_no_drp.drop(columns = \"Label\")\n",
    "\n",
    "    ## Recast columns to \"float\" datatype & review\n",
    "\n",
    "    for col in df_no_drp.columns:\n",
    "        df_no_drp[col] = pd.to_numeric(df_no_drp[col], downcast = 'float')\n",
    "    \n",
    "#     ## Create list of frequently-used labels\n",
    "\n",
    "#     freq_cats = ['Food', 'Beverage', 'Other','Discount', 'Charge','MD Food 6%',\n",
    "#              'MD Liq 9%','Tip collected','ALL A&G CHRG', 'Room Charge',\n",
    "#              'American Express', 'Cash', 'Discover Card', 'MasterCard',\n",
    "#              'Visa']\n",
    "\n",
    "    return df_no_drp"
   ]
  },
  {
   "cell_type": "code",
   "execution_count": null,
   "metadata": {
    "ExecuteTime": {
     "end_time": "2022-04-19T15:23:30.552973Z",
     "start_time": "2022-04-19T15:23:29.236Z"
    }
   },
   "outputs": [],
   "source": [
    "## Pulling all MOP reports and saving to dict\n",
    "\n",
    "if use_ref_rpt == True:\n",
    "    yd_str = '02_25_2022'\n",
    "else:\n",
    "    yd_str = datetime.strftime(yesterday, '%m_%d_%Y')\n",
    "\n",
    "dict_reports = {}\n",
    "\n",
    "for mop in list_mops:\n",
    "    dict_reports[mop] = clean_data(f'./data/{yd_str}_mop_det_{mop}.xls')"
   ]
  },
  {
   "cell_type": "code",
   "execution_count": null,
   "metadata": {
    "ExecuteTime": {
     "end_time": "2022-04-19T15:23:30.554000Z",
     "start_time": "2022-04-19T15:23:29.238Z"
    }
   },
   "outputs": [],
   "source": [
    "## Review resulting keys\n",
    "dict_reports.keys()"
   ]
  },
  {
   "cell_type": "code",
   "execution_count": null,
   "metadata": {
    "ExecuteTime": {
     "end_time": "2022-04-19T15:23:30.555005Z",
     "start_time": "2022-04-19T15:23:29.240Z"
    }
   },
   "outputs": [],
   "source": [
    "## Check number of columns in each report\n",
    "for key in dict_reports:\n",
    "    print(key, dict_reports[key].shape[1])"
   ]
  },
  {
   "cell_type": "markdown",
   "metadata": {},
   "source": [
    "## ⚠️ ⚒️ TODO: ⚒️ ⚠️"
   ]
  },
  {
   "cell_type": "markdown",
   "metadata": {},
   "source": [
    "1. Filter non-zero dataframe into common/uncommon categories\n",
    "2. Create DF w/ LS XAC for normal use\n",
    "3. Create DF w/ unusual cats w/ prompt to review"
   ]
  },
  {
   "cell_type": "code",
   "execution_count": null,
   "metadata": {},
   "outputs": [],
   "source": []
  },
  {
   "cell_type": "markdown",
   "metadata": {},
   "source": [
    "## Workflow 1: Dropping Unused Labels"
   ]
  },
  {
   "cell_type": "markdown",
   "metadata": {},
   "source": [
    "---\n",
    "\n",
    "**Dropping Labels**\n",
    "\n",
    "> Currently, I ignore several sections of the report as they do not report any relevant details. However, **this may lead us to overlook any irregular data.**\n",
    ">\n",
    "> This work flow focused on the most commonly used section of the report, highlighting the details used for NA.\n",
    ">\n",
    "> While I prefer a more inclusive approach, I am keeping this work flow for reference.\n",
    "\n",
    "---"
   ]
  },
  {
   "cell_type": "code",
   "execution_count": null,
   "metadata": {
    "ExecuteTime": {
     "end_time": "2022-04-19T15:23:30.556003Z",
     "start_time": "2022-04-19T15:23:29.245Z"
    },
    "scrolled": true
   },
   "outputs": [],
   "source": [
    "## Identify unique labels to determine which to drop\n",
    "\n",
    "df_cleaned.loc[:, \"Label\"].unique()"
   ]
  },
  {
   "cell_type": "code",
   "execution_count": null,
   "metadata": {
    "ExecuteTime": {
     "end_time": "2022-04-19T15:23:30.556990Z",
     "start_time": "2022-04-19T15:23:29.247Z"
    }
   },
   "outputs": [],
   "source": [
    "## Create list of labels to drop\n",
    "\n",
    "drop_labels = ['Sales Subtotal', 'Total before tax', 'None', 'None', \n",
    "               'Tax Subtotal','Receipt Rounding','Total of check', ' ', 'Unadjusted receipts',\n",
    "               'PaidIn - AR', 'PaidIn - Debitek','PaidIn - Gift Certificates',\n",
    "               'No of Covers', 'No of Checks', 'Avg cover', 'Avg check',\n",
    "               'Total Paid Outs', 'Server bank', 'Total tips',\n",
    "               'Server credit card fees', 'Net tips', 'Net Cash',\n",
    "               'Other receipts turned in', 'Server Drops', 'Turned in',\n",
    "               'Restaurant credit card fees', 'Estimated deposit',\n",
    "               'Beginning NRS Total', 'Total Receipts', 'Discounts',\n",
    "               'Paid Ins','Gross Total', 'NRS Total']\n",
    "drop_labels"
   ]
  },
  {
   "cell_type": "code",
   "execution_count": null,
   "metadata": {
    "ExecuteTime": {
     "end_time": "2022-04-19T15:23:30.558984Z",
     "start_time": "2022-04-19T15:23:29.249Z"
    }
   },
   "outputs": [],
   "source": [
    "## Drop specified labels and save to new DF\n",
    "\n",
    "df_new_idx =df_cleaned[~df_cleaned.loc[:, \"Label\"].isin(drop_labels)]\n",
    "df_new_idx"
   ]
  },
  {
   "cell_type": "code",
   "execution_count": null,
   "metadata": {
    "ExecuteTime": {
     "end_time": "2022-04-19T15:23:30.559981Z",
     "start_time": "2022-04-19T15:23:29.251Z"
    }
   },
   "outputs": [],
   "source": [
    "## Rename index with remaining labels\n",
    "\n",
    "df_new_idx = df_new_idx.rename(df_cleaned[\"Label\"])\n",
    "df_new_idx = df_new_idx.drop(columns = \"Label\")\n",
    "df_new_idx"
   ]
  },
  {
   "cell_type": "markdown",
   "metadata": {},
   "source": [
    "## ⚠️ CONDENSE W/ UPPER WF ⚠️"
   ]
  },
  {
   "cell_type": "code",
   "execution_count": null,
   "metadata": {
    "ExecuteTime": {
     "end_time": "2022-04-19T15:23:30.560978Z",
     "start_time": "2022-04-19T15:23:29.253Z"
    },
    "scrolled": true
   },
   "outputs": [],
   "source": [
    "## Review remaining datatypes\n",
    "\n",
    "df_new_idx.dtypes"
   ]
  },
  {
   "cell_type": "code",
   "execution_count": null,
   "metadata": {
    "ExecuteTime": {
     "end_time": "2022-04-19T15:23:30.561949Z",
     "start_time": "2022-04-19T15:23:29.255Z"
    },
    "scrolled": true
   },
   "outputs": [],
   "source": [
    "## Recast DT\n",
    "\n",
    "for col in df_new_idx.columns:\n",
    "    df_new_idx[col] = pd.to_numeric(df_new_idx[col], downcast = 'float')\n",
    "\n",
    "df_new_idx.dtypes"
   ]
  },
  {
   "cell_type": "code",
   "execution_count": null,
   "metadata": {
    "ExecuteTime": {
     "end_time": "2022-04-19T15:23:30.562952Z",
     "start_time": "2022-04-19T15:23:29.257Z"
    }
   },
   "outputs": [],
   "source": [
    "## Inspect results\n",
    "\n",
    "df_new_idx.T.describe()"
   ]
  },
  {
   "cell_type": "code",
   "execution_count": null,
   "metadata": {
    "ExecuteTime": {
     "end_time": "2022-04-19T15:23:30.563978Z",
     "start_time": "2022-04-19T15:23:29.258Z"
    }
   },
   "outputs": [],
   "source": [
    "## Create new total column\n",
    "\n",
    "df_new_idx['Total'] = df_new_idx.sum(axis=1)\n",
    "df_new_idx"
   ]
  },
  {
   "cell_type": "code",
   "execution_count": null,
   "metadata": {
    "ExecuteTime": {
     "end_time": "2022-04-19T15:23:30.565939Z",
     "start_time": "2022-04-19T15:23:29.260Z"
    }
   },
   "outputs": [],
   "source": [
    "## Filter out zero sums\n",
    "\n",
    "df_compressed = df_new_idx[df_new_idx['Total'] >0]\n",
    "df_compressed"
   ]
  },
  {
   "cell_type": "code",
   "execution_count": null,
   "metadata": {
    "ExecuteTime": {
     "end_time": "2022-04-19T15:23:30.565939Z",
     "start_time": "2022-04-19T15:23:29.262Z"
    }
   },
   "outputs": [],
   "source": [
    "df_compressed['Lounge']['Food']"
   ]
  },
  {
   "cell_type": "code",
   "execution_count": null,
   "metadata": {
    "ExecuteTime": {
     "end_time": "2022-04-19T15:23:30.567940Z",
     "start_time": "2022-04-19T15:23:29.265Z"
    }
   },
   "outputs": [],
   "source": [
    "## Test print statements for logging purposes\n",
    "\n",
    "for col in df_compressed.columns[:-1]:\n",
    "    print(f\"Post to {col} food: {df_compressed[col]['Food']+df_compressed[col]['Other']:.2f}\")"
   ]
  },
  {
   "cell_type": "code",
   "execution_count": null,
   "metadata": {
    "ExecuteTime": {
     "end_time": "2022-04-19T15:23:30.568940Z",
     "start_time": "2022-04-19T15:23:29.267Z"
    }
   },
   "outputs": [],
   "source": [
    "## Further testing for logging purposes\n",
    "\n",
    "dept_list = [\"Rain 903\", \"In Room Dining\", \"Coffee Corner\", \"Lobby Bar\"]\n",
    "sd_list = [\"Food\", \"Liquor\", \"Tax\", \"Gratuity\"]\n",
    "\n",
    "for dept in dept_list:\n",
    "    for sd in sd_list:\n",
    "        print(dept+\" - \"+sd)"
   ]
  }
 ],
 "metadata": {
  "kernelspec": {
   "display_name": "sbnds",
   "language": "python",
   "name": "sbnds"
  },
  "language_info": {
   "codemirror_mode": {
    "name": "ipython",
    "version": 3
   },
   "file_extension": ".py",
   "mimetype": "text/x-python",
   "name": "python",
   "nbconvert_exporter": "python",
   "pygments_lexer": "ipython3",
   "version": "3.8.5"
  },
  "toc": {
   "base_numbering": 1,
   "nav_menu": {},
   "number_sections": true,
   "sideBar": true,
   "skip_h1_title": false,
   "title_cell": "Table of Contents",
   "title_sidebar": "Contents",
   "toc_cell": true,
   "toc_position": {
    "height": "781px",
    "left": "259px",
    "top": "314.125px",
    "width": "165px"
   },
   "toc_section_display": true,
   "toc_window_display": true
  }
 },
 "nbformat": 4,
 "nbformat_minor": 4
}
